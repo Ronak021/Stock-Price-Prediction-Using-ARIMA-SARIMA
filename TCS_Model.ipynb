{
 "cells": [
  {
   "cell_type": "code",
   "execution_count": 41,
   "metadata": {},
   "outputs": [],
   "source": [
    "import pandas as pd\n",
    "import numpy as np\n",
    "import matplotlib.pyplot as plt\n",
    "import yfinance as yf\n",
    "from statsmodels.graphics.tsaplots import plot_acf, plot_pacf\n",
    "from statsmodels.tsa.arima.model import ARIMA\n",
    "from statsmodels.tsa.statespace.sarimax import SARIMAX\n",
    "from sklearn.preprocessing import StandardScaler\n",
    "import datetime\n",
    "from statsmodels.tsa.stattools import adfuller"
   ]
  },
  {
   "cell_type": "markdown",
   "metadata": {},
   "source": [
    "# 1. Data Collection"
   ]
  },
  {
   "cell_type": "code",
   "execution_count": 42,
   "metadata": {},
   "outputs": [
    {
     "name": "stderr",
     "output_type": "stream",
     "text": [
      "[*********************100%***********************]  1 of 1 completed\n"
     ]
    }
   ],
   "source": [
    "tcs_stock_data = yf.download('TCS.NS', start='2010-01-01', end='2024-09-19')\n",
    "tcs_stock_data.fillna(0, inplace=True)"
   ]
  },
  {
   "cell_type": "code",
   "execution_count": 43,
   "metadata": {},
   "outputs": [
    {
     "data": {
      "text/html": [
       "<div>\n",
       "<style scoped>\n",
       "    .dataframe tbody tr th:only-of-type {\n",
       "        vertical-align: middle;\n",
       "    }\n",
       "\n",
       "    .dataframe tbody tr th {\n",
       "        vertical-align: top;\n",
       "    }\n",
       "\n",
       "    .dataframe thead th {\n",
       "        text-align: right;\n",
       "    }\n",
       "</style>\n",
       "<table border=\"1\" class=\"dataframe\">\n",
       "  <thead>\n",
       "    <tr style=\"text-align: right;\">\n",
       "      <th></th>\n",
       "      <th>Open</th>\n",
       "      <th>High</th>\n",
       "      <th>Low</th>\n",
       "      <th>Close</th>\n",
       "      <th>Adj Close</th>\n",
       "      <th>Volume</th>\n",
       "    </tr>\n",
       "    <tr>\n",
       "      <th>Date</th>\n",
       "      <th></th>\n",
       "      <th></th>\n",
       "      <th></th>\n",
       "      <th></th>\n",
       "      <th></th>\n",
       "      <th></th>\n",
       "    </tr>\n",
       "  </thead>\n",
       "  <tbody>\n",
       "    <tr>\n",
       "      <th>2010-01-04</th>\n",
       "      <td>377.399994</td>\n",
       "      <td>379.450012</td>\n",
       "      <td>374.524994</td>\n",
       "      <td>375.825012</td>\n",
       "      <td>293.465515</td>\n",
       "      <td>1963682</td>\n",
       "    </tr>\n",
       "    <tr>\n",
       "      <th>2010-01-05</th>\n",
       "      <td>377.500000</td>\n",
       "      <td>379.774994</td>\n",
       "      <td>373.274994</td>\n",
       "      <td>375.924988</td>\n",
       "      <td>293.543671</td>\n",
       "      <td>2014488</td>\n",
       "    </tr>\n",
       "    <tr>\n",
       "      <th>2010-01-06</th>\n",
       "      <td>375.924988</td>\n",
       "      <td>376.100006</td>\n",
       "      <td>366.500000</td>\n",
       "      <td>367.424988</td>\n",
       "      <td>286.906342</td>\n",
       "      <td>3349176</td>\n",
       "    </tr>\n",
       "    <tr>\n",
       "      <th>2010-01-07</th>\n",
       "      <td>367.750000</td>\n",
       "      <td>369.700012</td>\n",
       "      <td>355.500000</td>\n",
       "      <td>357.200012</td>\n",
       "      <td>278.922089</td>\n",
       "      <td>6474892</td>\n",
       "    </tr>\n",
       "    <tr>\n",
       "      <th>2010-01-08</th>\n",
       "      <td>358.000000</td>\n",
       "      <td>359.250000</td>\n",
       "      <td>348.250000</td>\n",
       "      <td>349.899994</td>\n",
       "      <td>273.221924</td>\n",
       "      <td>6048178</td>\n",
       "    </tr>\n",
       "    <tr>\n",
       "      <th>...</th>\n",
       "      <td>...</td>\n",
       "      <td>...</td>\n",
       "      <td>...</td>\n",
       "      <td>...</td>\n",
       "      <td>...</td>\n",
       "      <td>...</td>\n",
       "    </tr>\n",
       "    <tr>\n",
       "      <th>2024-09-12</th>\n",
       "      <td>4510.250000</td>\n",
       "      <td>4532.600098</td>\n",
       "      <td>4431.299805</td>\n",
       "      <td>4517.700195</td>\n",
       "      <td>4517.700195</td>\n",
       "      <td>2742216</td>\n",
       "    </tr>\n",
       "    <tr>\n",
       "      <th>2024-09-13</th>\n",
       "      <td>4530.000000</td>\n",
       "      <td>4547.000000</td>\n",
       "      <td>4505.000000</td>\n",
       "      <td>4522.600098</td>\n",
       "      <td>4522.600098</td>\n",
       "      <td>1458786</td>\n",
       "    </tr>\n",
       "    <tr>\n",
       "      <th>2024-09-16</th>\n",
       "      <td>4527.000000</td>\n",
       "      <td>4546.049805</td>\n",
       "      <td>4494.450195</td>\n",
       "      <td>4513.250000</td>\n",
       "      <td>4513.250000</td>\n",
       "      <td>1155120</td>\n",
       "    </tr>\n",
       "    <tr>\n",
       "      <th>2024-09-17</th>\n",
       "      <td>4513.250000</td>\n",
       "      <td>4535.799805</td>\n",
       "      <td>4466.000000</td>\n",
       "      <td>4505.649902</td>\n",
       "      <td>4505.649902</td>\n",
       "      <td>1699364</td>\n",
       "    </tr>\n",
       "    <tr>\n",
       "      <th>2024-09-18</th>\n",
       "      <td>4497.049805</td>\n",
       "      <td>4497.049805</td>\n",
       "      <td>4321.000000</td>\n",
       "      <td>4346.149902</td>\n",
       "      <td>4346.149902</td>\n",
       "      <td>2961779</td>\n",
       "    </tr>\n",
       "  </tbody>\n",
       "</table>\n",
       "<p>3630 rows × 6 columns</p>\n",
       "</div>"
      ],
      "text/plain": [
       "                   Open         High          Low        Close    Adj Close  \\\n",
       "Date                                                                          \n",
       "2010-01-04   377.399994   379.450012   374.524994   375.825012   293.465515   \n",
       "2010-01-05   377.500000   379.774994   373.274994   375.924988   293.543671   \n",
       "2010-01-06   375.924988   376.100006   366.500000   367.424988   286.906342   \n",
       "2010-01-07   367.750000   369.700012   355.500000   357.200012   278.922089   \n",
       "2010-01-08   358.000000   359.250000   348.250000   349.899994   273.221924   \n",
       "...                 ...          ...          ...          ...          ...   \n",
       "2024-09-12  4510.250000  4532.600098  4431.299805  4517.700195  4517.700195   \n",
       "2024-09-13  4530.000000  4547.000000  4505.000000  4522.600098  4522.600098   \n",
       "2024-09-16  4527.000000  4546.049805  4494.450195  4513.250000  4513.250000   \n",
       "2024-09-17  4513.250000  4535.799805  4466.000000  4505.649902  4505.649902   \n",
       "2024-09-18  4497.049805  4497.049805  4321.000000  4346.149902  4346.149902   \n",
       "\n",
       "             Volume  \n",
       "Date                 \n",
       "2010-01-04  1963682  \n",
       "2010-01-05  2014488  \n",
       "2010-01-06  3349176  \n",
       "2010-01-07  6474892  \n",
       "2010-01-08  6048178  \n",
       "...             ...  \n",
       "2024-09-12  2742216  \n",
       "2024-09-13  1458786  \n",
       "2024-09-16  1155120  \n",
       "2024-09-17  1699364  \n",
       "2024-09-18  2961779  \n",
       "\n",
       "[3630 rows x 6 columns]"
      ]
     },
     "execution_count": 43,
     "metadata": {},
     "output_type": "execute_result"
    }
   ],
   "source": [
    "df = pd.DataFrame(tcs_stock_data)\n",
    "df\n",
    "# df.to_csv('TCS_stock')"
   ]
  },
  {
   "cell_type": "code",
   "execution_count": 44,
   "metadata": {},
   "outputs": [
    {
     "data": {
      "text/plain": [
       "DatetimeIndex(['2010-01-04', '2010-01-05', '2010-01-06', '2010-01-07',\n",
       "               '2010-01-08', '2010-01-11', '2010-01-12', '2010-01-13',\n",
       "               '2010-01-14', '2010-01-15',\n",
       "               ...\n",
       "               '2024-09-05', '2024-09-06', '2024-09-09', '2024-09-10',\n",
       "               '2024-09-11', '2024-09-12', '2024-09-13', '2024-09-16',\n",
       "               '2024-09-17', '2024-09-18'],\n",
       "              dtype='datetime64[ns]', name='Date', length=3630, freq=None)"
      ]
     },
     "execution_count": 44,
     "metadata": {},
     "output_type": "execute_result"
    }
   ],
   "source": [
    "df.index"
   ]
  },
  {
   "cell_type": "markdown",
   "metadata": {},
   "source": [
    "# 2. Data Preprocessing"
   ]
  },
  {
   "cell_type": "code",
   "execution_count": 45,
   "metadata": {},
   "outputs": [
    {
     "data": {
      "text/plain": [
       "<AxesSubplot: xlabel='Date'>"
      ]
     },
     "execution_count": 45,
     "metadata": {},
     "output_type": "execute_result"
    },
    {
     "data": {
      "image/png": "[encoded data removed]",
      "text/plain": [
       "<Figure size 640x480 with 1 Axes>"
      ]
     },
     "metadata": {},
     "output_type": "display_data"
    }
   ],
   "source": [
    "# This applies the natural logarithm (logarithm with base e) to the Close column of the DataFrame df.\n",
    "# The reason for taking the logarithm of the closing prices is to stabilize the variance,\n",
    "#  which can help in time series modeling (especially when working with non-stationary data). \n",
    "# Log transformations can reduce the effect of large fluctuations and make the data more stationary.\n",
    "\n",
    "\n",
    "y = np.log(df[\"Close\"])\n",
    "y.plot()"
   ]
  },
  {
   "cell_type": "code",
   "execution_count": 46,
   "metadata": {},
   "outputs": [
    {
     "data": {
      "text/plain": [
       "Date\n",
       "2010-01-04    5.929124\n",
       "2010-01-05    5.929390\n",
       "2010-01-06    5.906519\n",
       "2010-01-07    5.878296\n",
       "2010-01-08    5.857647\n",
       "2010-01-09         NaN\n",
       "2010-01-10         NaN\n",
       "2010-01-11    5.878016\n",
       "2010-01-12    5.926993\n",
       "2010-01-13    5.977049\n",
       "2010-01-14    5.965954\n",
       "2010-01-15    5.980656\n",
       "2010-01-16         NaN\n",
       "2010-01-17         NaN\n",
       "2010-01-18    5.994211\n",
       "Freq: D, Name: Close, dtype: float64"
      ]
     },
     "execution_count": 46,
     "metadata": {},
     "output_type": "execute_result"
    }
   ],
   "source": [
    "y.asfreq(\"D\")[:15] "
   ]
  },
  {
   "cell_type": "markdown",
   "metadata": {},
   "source": [
    "Let's impute the missing data by forward fill using asfreq method."
   ]
  },
  {
   "cell_type": "code",
   "execution_count": 47,
   "metadata": {},
   "outputs": [
    {
     "data": {
      "text/plain": [
       "Date\n",
       "2010-01-04    5.929124\n",
       "2010-01-05    5.929390\n",
       "2010-01-06    5.906519\n",
       "2010-01-07    5.878296\n",
       "2010-01-08    5.857647\n",
       "2010-01-09    5.857647\n",
       "2010-01-10    5.857647\n",
       "2010-01-11    5.878016\n",
       "2010-01-12    5.926993\n",
       "2010-01-13    5.977049\n",
       "2010-01-14    5.965954\n",
       "2010-01-15    5.980656\n",
       "2010-01-16    5.980656\n",
       "2010-01-17    5.980656\n",
       "2010-01-18    5.994211\n",
       "Freq: D, Name: Close, dtype: float64"
      ]
     },
     "execution_count": 47,
     "metadata": {},
     "output_type": "execute_result"
    }
   ],
   "source": [
    "y.asfreq(\"D\", method=\"ffill\")[:15]   # used to forward fill missing values."
   ]
  },
  {
   "cell_type": "markdown",
   "metadata": {},
   "source": [
    "Formal of way of test for stationarity. Since the p-value of Augmented Dickey Fullter test is > 0.05,\n",
    "we can say that there is not sufficient proof that the time series is stationary. \n",
    "Loosely speaking, it is non-stationary. We need further transformation to make data stationary.\n",
    "Populary method for making data stationary will be to take \"difference\". \n",
    "Taking difference by lag one, we see the p-val for Dickey Fuller test is < 0.05. \n",
    "So we conclude, diff 1 will made the data stationary. "
   ]
  },
  {
   "cell_type": "code",
   "execution_count": 48,
   "metadata": {},
   "outputs": [
    {
     "name": "stdout",
     "output_type": "stream",
     "text": [
      "ADF Test Statistic : 0.6990424581866237\n",
      "p-value : 0.9898187408362258\n",
      "#Lags Used : 30\n",
      "Number of Observations Used : 3599\n",
      "weak evidence against null hypothesis, time series has a unit root, indicating it is non-stationary \n"
     ]
    }
   ],
   "source": [
    "#Ho: It is non stationary\n",
    "#H1: It is stationary\n",
    "\n",
    "def adfuller_test(prices):\n",
    "    result=adfuller(prices)\n",
    "    labels = ['ADF Test Statistic','p-value','#Lags Used','Number of Observations Used']\n",
    "    for value,label in zip(result,labels):\n",
    "        print(label+' : '+str(value) )\n",
    "    if result[1] <= 0.05:\n",
    "        print(\"strong evidence against the null hypothesis(Ho), reject the null hypothesis. Data has no unit root and is stationary\")\n",
    "    else:\n",
    "        print(\"weak evidence against null hypothesis, time series has a unit root, indicating it is non-stationary \")\n",
    "\n",
    "        \n",
    "adfuller_test(df['Close'])"
   ]
  },
  {
   "cell_type": "code",
   "execution_count": 49,
   "metadata": {},
   "outputs": [],
   "source": [
    "result = adfuller(y.diff(periods=1).dropna())"
   ]
  },
  {
   "cell_type": "code",
   "execution_count": 50,
   "metadata": {},
   "outputs": [
    {
     "name": "stdout",
     "output_type": "stream",
     "text": [
      "ADF Statistic: -19.985378\n",
      "p-value: 0.000000\n"
     ]
    }
   ],
   "source": [
    "print('ADF Statistic: %f' % result[0])\n",
    "print('p-value: %f' % result[1])"
   ]
  },
  {
   "cell_type": "code",
   "execution_count": 51,
   "metadata": {},
   "outputs": [
    {
     "data": {
      "text/plain": [
       "<AxesSubplot: xlabel='Date'>"
      ]
     },
     "execution_count": 51,
     "metadata": {},
     "output_type": "execute_result"
    },
    {
     "data": {
      "image/png": "[encoded data removed]",
      "text/plain": [
       "<Figure size 640x480 with 1 Axes>"
      ]
     },
     "metadata": {},
     "output_type": "display_data"
    }
   ],
   "source": [
    "y.diff(periods=1).plot()"
   ]
  },
  {
   "cell_type": "code",
   "execution_count": 52,
   "metadata": {},
   "outputs": [
    {
     "data": {
      "text/plain": [
       "Date\n",
       "2010-01-04    5.929124\n",
       "2010-01-05    5.929390\n",
       "2010-01-06    5.906519\n",
       "2010-01-07    5.878296\n",
       "2010-01-08    5.857647\n",
       "                ...   \n",
       "2024-09-12    8.415758\n",
       "2024-09-13    8.416842\n",
       "2024-09-16    8.414773\n",
       "2024-09-17    8.413087\n",
       "2024-09-18    8.377046\n",
       "Name: Close, Length: 3630, dtype: float64"
      ]
     },
     "execution_count": 52,
     "metadata": {},
     "output_type": "execute_result"
    }
   ],
   "source": [
    "y"
   ]
  },
  {
   "cell_type": "code",
   "execution_count": 53,
   "metadata": {},
   "outputs": [],
   "source": [
    "y = y.dropna()"
   ]
  },
  {
   "cell_type": "markdown",
   "metadata": {},
   "source": [
    "# 3. Finding the p,d,q"
   ]
  },
  {
   "cell_type": "markdown",
   "metadata": {},
   "source": [
    "Identification of an AR model is often best done with the PACF.\n",
    "\n",
    "For an AR model, the theoretical PACF “shuts off” past the order of the model. The phrase “shuts off” means that in theory the partial autocorrelations are equal to 0 beyond that point. Put another way, the number of non-zero partial autocorrelations gives the order of the AR model. By the “order of the model” we mean the most extreme lag of x that is used as a predictor.\n",
    "Identification of an MA model is often best done with the ACF rather than the PACF. p,d,q\n",
    "\n",
    "For an MA model, the theoretical PACF does not shut off, but instead tapers toward 0 in some manner. A clearer pattern for an MA model is in the ACF. The ACF will have non-zero autocorrelations only at lags involved in the model.\n",
    "p AR model lags d differencing q MA lags"
   ]
  },
  {
   "cell_type": "code",
   "execution_count": 54,
   "metadata": {},
   "outputs": [
    {
     "name": "stderr",
     "output_type": "stream",
     "text": [
      "c:\\Users\\ronak\\AppData\\Local\\Programs\\Python\\Python311\\Lib\\site-packages\\statsmodels\\graphics\\tsaplots.py:348: FutureWarning: The default method 'yw' can produce PACF values outside of the [-1,1] interval. After 0.13, the default will change tounadjusted Yule-Walker ('ywm'). You can use this method now by setting method='ywm'.\n",
      "  warnings.warn(\n"
     ]
    },
    {
     "data": {
      "image/png": "[encoded data removed]",
      "text/plain": [
       "<Figure size 1200x800 with 2 Axes>"
      ]
     },
     "metadata": {},
     "output_type": "display_data"
    }
   ],
   "source": [
    "# Plot ACF and PACF for differenced data\n",
    "\n",
    "plt.figure(figsize=(12, 8))\n",
    "\n",
    "# ACF plot\n",
    "plt.subplot(211)\n",
    "plot_acf(y.diff(periods=1).dropna(), ax=plt.gca(), lags=50)\n",
    "plt.title('ACF Plot')\n",
    "\n",
    "\n",
    "# PACF plot\n",
    "plt.subplot(212)\n",
    "plot_pacf(y.diff(periods=1).dropna(), ax=plt.gca(), lags=50)\n",
    "plt.title('PACF Plot')\n",
    "plt.show()"
   ]
  },
  {
   "cell_type": "code",
   "execution_count": 55,
   "metadata": {},
   "outputs": [
    {
     "name": "stderr",
     "output_type": "stream",
     "text": [
      "c:\\Users\\ronak\\AppData\\Local\\Programs\\Python\\Python311\\Lib\\site-packages\\statsmodels\\tsa\\base\\tsa_model.py:471: ValueWarning: A date index has been provided, but it has no associated frequency information and so will be ignored when e.g. forecasting.\n",
      "  self._init_dates(dates, freq)\n",
      "c:\\Users\\ronak\\AppData\\Local\\Programs\\Python\\Python311\\Lib\\site-packages\\statsmodels\\tsa\\base\\tsa_model.py:471: ValueWarning: A date index has been provided, but it has no associated frequency information and so will be ignored when e.g. forecasting.\n",
      "  self._init_dates(dates, freq)\n",
      "c:\\Users\\ronak\\AppData\\Local\\Programs\\Python\\Python311\\Lib\\site-packages\\statsmodels\\tsa\\base\\tsa_model.py:471: ValueWarning: A date index has been provided, but it has no associated frequency information and so will be ignored when e.g. forecasting.\n",
      "  self._init_dates(dates, freq)\n"
     ]
    },
    {
     "data": {
      "image/png": "[encoded data removed]",
      "text/plain": [
       "<Figure size 640x480 with 1 Axes>"
      ]
     },
     "metadata": {},
     "output_type": "display_data"
    },
    {
     "name": "stdout",
     "output_type": "stream",
     "text": [
      "                 0\n",
      "count  3630.000000\n",
      "mean      0.002322\n",
      "std       0.099635\n",
      "min      -0.100833\n",
      "25%      -0.007632\n",
      "50%       0.000440\n",
      "75%       0.009004\n",
      "max       5.929124\n"
     ]
    }
   ],
   "source": [
    "from statsmodels.tsa.arima.model import ARIMA\n",
    "\n",
    "\n",
    "# fit model\n",
    "# model = ARIMA(y, order=(5, 1, 0))  # p, d, q\n",
    "model = ARIMA(y, order=(5, 1, 0))\n",
    "model_fit = model.fit()\n",
    "\n",
    "#print(model_fit.summary())\n",
    "\n",
    "import pandas as pd\n",
    "import matplotlib.pyplot as plt\n",
    "\n",
    "# Residual density refers to the distribution of residuals from a statistical model. \n",
    "# Residuals are the differences between the observed values and the values predicted by the model.\n",
    "\n",
    "# Purpose: By examining the residual density, you can assess whether residuals are normally distributed \n",
    "# and identify any patterns or anomalies that suggest problems with the model.\n",
    "\n",
    "# plot residual erros\n",
    "residuals = pd.DataFrame(model_fit.resid)\n",
    "# residuals.plot()\n",
    "# residuals.plot(kind='kde')\n",
    "# print(residuals.describe())\n",
    "\n",
    "# Plot residuals density\n",
    "residuals.plot(kind='kde')\n",
    "plt.title('Residuals Density')\n",
    "plt.show()\n",
    "\n",
    "# Print residuals description\n",
    "print(residuals.describe())\n"
   ]
  },
  {
   "cell_type": "code",
   "execution_count": 56,
   "metadata": {},
   "outputs": [
    {
     "name": "stderr",
     "output_type": "stream",
     "text": [
      "c:\\Users\\ronak\\AppData\\Local\\Programs\\Python\\Python311\\Lib\\site-packages\\statsmodels\\tsa\\base\\tsa_model.py:471: ValueWarning: A date index has been provided, but it has no associated frequency information and so will be ignored when e.g. forecasting.\n",
      "  self._init_dates(dates, freq)\n",
      "c:\\Users\\ronak\\AppData\\Local\\Programs\\Python\\Python311\\Lib\\site-packages\\statsmodels\\tsa\\base\\tsa_model.py:471: ValueWarning: A date index has been provided, but it has no associated frequency information and so will be ignored when e.g. forecasting.\n",
      "  self._init_dates(dates, freq)\n",
      "c:\\Users\\ronak\\AppData\\Local\\Programs\\Python\\Python311\\Lib\\site-packages\\statsmodels\\tsa\\base\\tsa_model.py:471: ValueWarning: A date index has been provided, but it has no associated frequency information and so will be ignored when e.g. forecasting.\n",
      "  self._init_dates(dates, freq)\n"
     ]
    },
    {
     "data": {
      "image/png": "[encoded data removed]",
      "text/plain": [
       "<Figure size 640x480 with 1 Axes>"
      ]
     },
     "metadata": {},
     "output_type": "display_data"
    },
    {
     "name": "stdout",
     "output_type": "stream",
     "text": [
      "                 0\n",
      "count  3630.000000\n",
      "mean      0.002322\n",
      "std       0.099635\n",
      "min      -0.100833\n",
      "25%      -0.007632\n",
      "50%       0.000440\n",
      "75%       0.009004\n",
      "max       5.929124\n"
     ]
    }
   ],
   "source": [
    "from statsmodels.tsa.arima.model import ARIMA\n",
    "\n",
    "model = ARIMA(y, order=(1, 1, 1))\n",
    "model_fit = model.fit()\n",
    "\n",
    "#print(model_fit.summary())\n",
    "\n",
    "import pandas as pd\n",
    "import matplotlib.pyplot as plt\n",
    "\n",
    "# Plot residuals density\n",
    "residuals.plot(kind='kde')\n",
    "plt.title('Residuals Density')\n",
    "plt.show()\n",
    "\n",
    "# Print residuals description\n",
    "print(residuals.describe())\n"
   ]
  },
  {
   "cell_type": "code",
   "execution_count": 57,
   "metadata": {},
   "outputs": [
    {
     "data": {
      "text/html": [
       "<table class=\"simpletable\">\n",
       "<caption>SARIMAX Results</caption>\n",
       "<tr>\n",
       "  <th>Dep. Variable:</th>         <td>Close</td>      <th>  No. Observations:  </th>    <td>3630</td>   \n",
       "</tr>\n",
       "<tr>\n",
       "  <th>Model:</th>            <td>ARIMA(1, 1, 1)</td>  <th>  Log Likelihood     </th>  <td>9932.703</td> \n",
       "</tr>\n",
       "<tr>\n",
       "  <th>Date:</th>            <td>Thu, 19 Sep 2024</td> <th>  AIC                </th> <td>-19859.407</td>\n",
       "</tr>\n",
       "<tr>\n",
       "  <th>Time:</th>                <td>12:19:27</td>     <th>  BIC                </th> <td>-19840.817</td>\n",
       "</tr>\n",
       "<tr>\n",
       "  <th>Sample:</th>                  <td>0</td>        <th>  HQIC               </th> <td>-19852.784</td>\n",
       "</tr>\n",
       "<tr>\n",
       "  <th></th>                      <td> - 3630</td>     <th>                     </th>      <td> </td>    \n",
       "</tr>\n",
       "<tr>\n",
       "  <th>Covariance Type:</th>        <td>opg</td>       <th>                     </th>      <td> </td>    \n",
       "</tr>\n",
       "</table>\n",
       "<table class=\"simpletable\">\n",
       "<tr>\n",
       "     <td></td>       <th>coef</th>     <th>std err</th>      <th>z</th>      <th>P>|z|</th>  <th>[0.025</th>    <th>0.975]</th>  \n",
       "</tr>\n",
       "<tr>\n",
       "  <th>ar.L1</th>  <td>    0.8866</td> <td>    0.257</td> <td>    3.450</td> <td> 0.001</td> <td>    0.383</td> <td>    1.390</td>\n",
       "</tr>\n",
       "<tr>\n",
       "  <th>ma.L1</th>  <td>   -0.8923</td> <td>    0.251</td> <td>   -3.555</td> <td> 0.000</td> <td>   -1.384</td> <td>   -0.400</td>\n",
       "</tr>\n",
       "<tr>\n",
       "  <th>sigma2</th> <td>    0.0002</td> <td> 3.43e-06</td> <td>   71.573</td> <td> 0.000</td> <td>    0.000</td> <td>    0.000</td>\n",
       "</tr>\n",
       "</table>\n",
       "<table class=\"simpletable\">\n",
       "<tr>\n",
       "  <th>Ljung-Box (L1) (Q):</th>     <td>0.01</td> <th>  Jarque-Bera (JB):  </th> <td>2097.68</td>\n",
       "</tr>\n",
       "<tr>\n",
       "  <th>Prob(Q):</th>                <td>0.92</td> <th>  Prob(JB):          </th>  <td>0.00</td>  \n",
       "</tr>\n",
       "<tr>\n",
       "  <th>Heteroskedasticity (H):</th> <td>0.83</td> <th>  Skew:              </th>  <td>0.03</td>  \n",
       "</tr>\n",
       "<tr>\n",
       "  <th>Prob(H) (two-sided):</th>    <td>0.00</td> <th>  Kurtosis:          </th>  <td>6.72</td>  \n",
       "</tr>\n",
       "</table><br/><br/>Warnings:<br/>[1] Covariance matrix calculated using the outer product of gradients (complex-step)."
      ],
      "text/plain": [
       "<class 'statsmodels.iolib.summary.Summary'>\n",
       "\"\"\"\n",
       "                               SARIMAX Results                                \n",
       "==============================================================================\n",
       "Dep. Variable:                  Close   No. Observations:                 3630\n",
       "Model:                 ARIMA(1, 1, 1)   Log Likelihood                9932.703\n",
       "Date:                Thu, 19 Sep 2024   AIC                         -19859.407\n",
       "Time:                        12:19:27   BIC                         -19840.817\n",
       "Sample:                             0   HQIC                        -19852.784\n",
       "                               - 3630                                         \n",
       "Covariance Type:                  opg                                         \n",
       "==============================================================================\n",
       "                 coef    std err          z      P>|z|      [0.025      0.975]\n",
       "------------------------------------------------------------------------------\n",
       "ar.L1          0.8866      0.257      3.450      0.001       0.383       1.390\n",
       "ma.L1         -0.8923      0.251     -3.555      0.000      -1.384      -0.400\n",
       "sigma2         0.0002   3.43e-06     71.573      0.000       0.000       0.000\n",
       "===================================================================================\n",
       "Ljung-Box (L1) (Q):                   0.01   Jarque-Bera (JB):              2097.68\n",
       "Prob(Q):                              0.92   Prob(JB):                         0.00\n",
       "Heteroskedasticity (H):               0.83   Skew:                             0.03\n",
       "Prob(H) (two-sided):                  0.00   Kurtosis:                         6.72\n",
       "===================================================================================\n",
       "\n",
       "Warnings:\n",
       "[1] Covariance matrix calculated using the outer product of gradients (complex-step).\n",
       "\"\"\""
      ]
     },
     "execution_count": 57,
     "metadata": {},
     "output_type": "execute_result"
    }
   ],
   "source": [
    "model_fit.summary()"
   ]
  },
  {
   "cell_type": "code",
   "execution_count": 58,
   "metadata": {},
   "outputs": [
    {
     "data": {
      "text/plain": [
       "array([[5.92912364],\n",
       "       [5.92938962],\n",
       "       [5.90651918],\n",
       "       ...,\n",
       "       [8.41477279],\n",
       "       [8.41308742],\n",
       "       [8.37704565]])"
      ]
     },
     "execution_count": 58,
     "metadata": {},
     "output_type": "execute_result"
    }
   ],
   "source": [
    "model.endog"
   ]
  },
  {
   "cell_type": "markdown",
   "metadata": {},
   "source": [
    "# 4 . Data Splitting and Model Fitting"
   ]
  },
  {
   "cell_type": "markdown",
   "metadata": {},
   "source": [
    "Spliting the data\n",
    "we split the normalized data into training and testing sets :\n",
    "\n",
    "70% for training,\n",
    "30% for testing."
   ]
  },
  {
   "cell_type": "code",
   "execution_count": 59,
   "metadata": {},
   "outputs": [
    {
     "name": "stdout",
     "output_type": "stream",
     "text": [
      "predicted=7.527245, actual=7.552578\n",
      "predicted=7.554492, actual=7.608101\n",
      "predicted=7.606225, actual=7.565508\n",
      "predicted=7.564868, actual=7.566699\n"
     ]
    },
    {
     "name": "stderr",
     "output_type": "stream",
     "text": [
      "c:\\Users\\ronak\\AppData\\Local\\Programs\\Python\\Python311\\Lib\\site-packages\\statsmodels\\base\\model.py:604: ConvergenceWarning: Maximum Likelihood optimization failed to converge. Check mle_retvals\n",
      "  warnings.warn(\"Maximum Likelihood optimization failed to \"\n"
     ]
    },
    {
     "name": "stdout",
     "output_type": "stream",
     "text": [
      "predicted=7.565942, actual=7.551502\n",
      "predicted=7.551822, actual=7.545205\n",
      "predicted=7.548318, actual=7.546129\n",
      "predicted=7.544997, actual=7.568018\n",
      "predicted=7.568404, actual=7.575328\n",
      "predicted=7.574745, actual=7.575405\n",
      "predicted=7.574707, actual=7.550845\n",
      "predicted=7.550331, actual=7.545865\n",
      "predicted=7.546634, actual=7.573326\n",
      "predicted=7.573911, actual=7.574892\n",
      "predicted=7.575335, actual=7.577429\n",
      "predicted=7.576179, actual=7.596493\n",
      "predicted=7.595445, actual=7.611026\n",
      "predicted=7.611548, actual=7.571988\n",
      "predicted=7.571725, actual=7.603549\n",
      "predicted=7.603013, actual=7.603050\n",
      "predicted=7.603646, actual=7.586981\n",
      "predicted=7.588027, actual=7.623275\n",
      "predicted=7.621038, actual=7.624204\n",
      "predicted=7.625020, actual=7.623715\n",
      "predicted=7.623577, actual=7.645661\n",
      "predicted=7.643940, actual=7.624741\n",
      "predicted=7.625812, actual=7.636149\n",
      "predicted=7.635990, actual=7.636294\n",
      "predicted=7.635816, actual=7.653851\n",
      "predicted=7.654787, actual=7.634168\n",
      "predicted=7.633229, actual=7.620460\n",
      "predicted=7.620906, actual=7.615742\n",
      "predicted=7.615753, actual=7.623544\n",
      "predicted=7.624822, actual=7.624521\n",
      "predicted=7.624264, actual=7.619773\n",
      "predicted=7.619392, actual=7.622957\n"
     ]
    },
    {
     "name": "stderr",
     "output_type": "stream",
     "text": [
      "c:\\Users\\ronak\\AppData\\Local\\Programs\\Python\\Python311\\Lib\\site-packages\\statsmodels\\base\\model.py:604: ConvergenceWarning: Maximum Likelihood optimization failed to converge. Check mle_retvals\n",
      "  warnings.warn(\"Maximum Likelihood optimization failed to \"\n"
     ]
    },
    {
     "name": "stdout",
     "output_type": "stream",
     "text": [
      "predicted=7.622598, actual=7.614781\n",
      "predicted=7.615122, actual=7.618399\n",
      "predicted=7.618563, actual=7.621783\n",
      "predicted=7.621596, actual=7.608920\n",
      "predicted=7.609292, actual=7.658629\n",
      "predicted=7.657784, actual=7.650478\n",
      "predicted=7.650258, actual=7.641156\n",
      "predicted=7.641092, actual=7.645900\n",
      "predicted=7.644237, actual=7.676543\n",
      "predicted=7.678029, actual=7.696053\n",
      "predicted=7.695395, actual=7.724535\n",
      "predicted=7.723161, actual=7.727491\n",
      "predicted=7.726213, actual=7.704767\n",
      "predicted=7.704960, actual=7.698188\n",
      "predicted=7.698279, actual=7.706321\n",
      "predicted=7.707495, actual=7.705262\n",
      "predicted=7.706005, actual=7.683381\n",
      "predicted=7.682942, actual=7.711504\n",
      "predicted=7.711049, actual=7.711885\n",
      "predicted=7.712157, actual=7.696553\n",
      "predicted=7.696869, actual=7.699797\n",
      "predicted=7.698511, actual=7.707535\n",
      "predicted=7.708471, actual=7.692090\n",
      "predicted=7.692542, actual=7.683035\n",
      "predicted=7.682681, actual=7.676659\n",
      "predicted=7.676950, actual=7.699299\n",
      "predicted=7.699907, actual=7.744895\n",
      "predicted=7.744039, actual=7.730197\n",
      "predicted=7.729277, actual=7.731711\n",
      "predicted=7.730395, actual=7.732545\n",
      "predicted=7.732181, actual=7.720528\n",
      "predicted=7.722407, actual=7.718552\n",
      "predicted=7.718243, actual=7.722899\n",
      "predicted=7.723079, actual=7.744180\n",
      "predicted=7.744291, actual=7.738641\n",
      "predicted=7.738035, actual=7.733158\n",
      "predicted=7.732792, actual=7.731887\n",
      "predicted=7.731598, actual=7.721947\n",
      "predicted=7.722942, actual=7.720661\n",
      "predicted=7.720821, actual=7.715190\n",
      "predicted=7.715286, actual=7.720195\n",
      "predicted=7.720480, actual=7.727425\n",
      "predicted=7.727103, actual=7.721615\n",
      "predicted=7.721615, actual=7.719951\n",
      "predicted=7.719637, actual=7.718063\n",
      "predicted=7.718139, actual=7.717841\n",
      "predicted=7.718274, actual=7.715413\n",
      "predicted=7.715344, actual=7.720240\n",
      "predicted=7.720230, actual=7.717974\n",
      "predicted=7.717917, actual=7.713584\n",
      "predicted=7.713650, actual=7.721903\n",
      "predicted=7.721703, actual=7.717062\n",
      "predicted=7.717270, actual=7.725396\n",
      "predicted=7.725307, actual=7.740447\n",
      "predicted=7.739879, actual=7.735783\n",
      "predicted=7.735883, actual=7.752357\n",
      "predicted=7.751642, actual=7.761404\n",
      "predicted=7.760974, actual=7.752614\n",
      "predicted=7.752926, actual=7.754117\n",
      "predicted=7.753481, actual=7.772374\n",
      "predicted=7.772526, actual=7.820600\n",
      "predicted=7.820404, actual=7.820600\n",
      "predicted=7.819344, actual=7.825245\n",
      "predicted=7.824050, actual=7.808303\n",
      "predicted=7.807615, actual=7.803802\n",
      "predicted=7.805486, actual=7.810069\n",
      "predicted=7.810206, actual=7.833184\n",
      "predicted=7.833580, actual=7.810940\n",
      "predicted=7.810331, actual=7.754589\n",
      "predicted=7.754696, actual=7.792473\n",
      "predicted=7.792940, actual=7.794123\n",
      "predicted=7.795649, actual=7.819395\n",
      "predicted=7.819269, actual=7.820961\n",
      "predicted=7.817627, actual=7.833382\n",
      "predicted=7.833941, actual=7.903153\n",
      "predicted=7.901673, actual=7.906289\n",
      "predicted=7.905882, actual=7.914234\n",
      "predicted=7.912849, actual=7.946511\n",
      "predicted=7.944740, actual=7.941989\n",
      "predicted=7.943889, actual=7.948032\n",
      "predicted=7.947595, actual=7.946812\n",
      "predicted=7.946236, actual=7.940797\n",
      "predicted=7.942078, actual=7.915932\n",
      "predicted=7.915924, actual=7.924181\n",
      "predicted=7.924765, actual=7.905276\n",
      "predicted=7.905724, actual=7.915348\n",
      "predicted=7.915851, actual=7.891854\n",
      "predicted=7.891100, actual=7.890264\n",
      "predicted=7.891221, actual=7.896106\n",
      "predicted=7.895430, actual=7.896627\n",
      "predicted=7.897512, actual=7.874796\n",
      "predicted=7.874158, actual=7.871769\n",
      "predicted=7.871874, actual=7.875746\n",
      "predicted=7.876190, actual=7.887903\n",
      "predicted=7.888328, actual=7.865034\n"
     ]
    },
    {
     "name": "stderr",
     "output_type": "stream",
     "text": [
      "c:\\Users\\ronak\\AppData\\Local\\Programs\\Python\\Python311\\Lib\\site-packages\\statsmodels\\base\\model.py:604: ConvergenceWarning: Maximum Likelihood optimization failed to converge. Check mle_retvals\n",
      "  warnings.warn(\"Maximum Likelihood optimization failed to \"\n"
     ]
    },
    {
     "name": "stdout",
     "output_type": "stream",
     "text": [
      "predicted=7.864367, actual=7.876107\n",
      "predicted=7.875950, actual=7.883503\n",
      "predicted=7.883395, actual=7.895697\n",
      "predicted=7.896305, actual=7.903762\n",
      "predicted=7.902386, actual=7.910811\n",
      "predicted=7.910697, actual=7.882164\n",
      "predicted=7.882213, actual=7.896478\n",
      "predicted=7.896835, actual=7.890227\n",
      "predicted=7.890565, actual=7.884897\n"
     ]
    },
    {
     "name": "stderr",
     "output_type": "stream",
     "text": [
      "c:\\Users\\ronak\\AppData\\Local\\Programs\\Python\\Python311\\Lib\\site-packages\\statsmodels\\base\\model.py:604: ConvergenceWarning: Maximum Likelihood optimization failed to converge. Check mle_retvals\n",
      "  warnings.warn(\"Maximum Likelihood optimization failed to \"\n"
     ]
    },
    {
     "name": "stdout",
     "output_type": "stream",
     "text": [
      "predicted=7.885786, actual=7.889965\n",
      "predicted=7.888743, actual=7.888353\n",
      "predicted=7.889002, actual=7.873465\n",
      "predicted=7.873503, actual=7.877359\n",
      "predicted=7.877231, actual=7.886175\n",
      "predicted=7.886414, actual=7.909948\n"
     ]
    },
    {
     "name": "stderr",
     "output_type": "stream",
     "text": [
      "c:\\Users\\ronak\\AppData\\Local\\Programs\\Python\\Python311\\Lib\\site-packages\\statsmodels\\base\\model.py:604: ConvergenceWarning: Maximum Likelihood optimization failed to converge. Check mle_retvals\n",
      "  warnings.warn(\"Maximum Likelihood optimization failed to \"\n"
     ]
    },
    {
     "name": "stdout",
     "output_type": "stream",
     "text": [
      "predicted=7.909843, actual=7.909141\n",
      "predicted=7.908137, actual=7.901488\n",
      "predicted=7.901203, actual=7.908608\n",
      "predicted=7.908372, actual=7.893441\n",
      "predicted=7.894417, actual=7.910884\n"
     ]
    },
    {
     "name": "stderr",
     "output_type": "stream",
     "text": [
      "c:\\Users\\ronak\\AppData\\Local\\Programs\\Python\\Python311\\Lib\\site-packages\\statsmodels\\base\\model.py:604: ConvergenceWarning: Maximum Likelihood optimization failed to converge. Check mle_retvals\n",
      "  warnings.warn(\"Maximum Likelihood optimization failed to \"\n"
     ]
    },
    {
     "name": "stdout",
     "output_type": "stream",
     "text": [
      "predicted=7.910963, actual=7.919193\n",
      "predicted=7.918624, actual=7.904501\n",
      "predicted=7.904958, actual=7.911159\n",
      "predicted=7.910233, actual=7.914873\n",
      "predicted=7.915304, actual=7.936410\n",
      "predicted=7.936693, actual=7.941224\n",
      "predicted=7.940169, actual=7.931752\n",
      "predicted=7.931667, actual=7.931500\n",
      "predicted=7.931171, actual=7.936553\n",
      "predicted=7.937249, actual=7.923547\n",
      "predicted=7.924022, actual=7.942433\n",
      "predicted=7.942016, actual=7.950925\n",
      "predicted=7.950595, actual=7.958926\n",
      "predicted=7.958994, actual=7.944545\n",
      "predicted=7.943580, actual=7.962938\n",
      "predicted=7.963261, actual=7.975479\n",
      "predicted=7.975362, actual=7.975685\n",
      "predicted=7.975908, actual=7.982553\n",
      "predicted=7.981389, actual=7.982928\n",
      "predicted=7.983161, actual=7.975668\n",
      "predicted=7.976085, actual=7.959538\n",
      "predicted=7.959650, actual=7.982160\n",
      "predicted=7.982435, actual=8.019432\n",
      "predicted=8.019103, actual=8.036897\n",
      "predicted=8.036059, actual=8.023389\n",
      "predicted=8.021680, actual=8.017242\n",
      "predicted=8.017156, actual=8.045877\n",
      "predicted=8.046788, actual=8.063519\n",
      "predicted=8.063926, actual=8.063016\n",
      "predicted=8.062022, actual=8.057995\n",
      "predicted=8.056965, actual=8.086626\n"
     ]
    },
    {
     "name": "stderr",
     "output_type": "stream",
     "text": [
      "c:\\Users\\ronak\\AppData\\Local\\Programs\\Python\\Python311\\Lib\\site-packages\\statsmodels\\base\\model.py:604: ConvergenceWarning: Maximum Likelihood optimization failed to converge. Check mle_retvals\n",
      "  warnings.warn(\"Maximum Likelihood optimization failed to \"\n"
     ]
    },
    {
     "name": "stdout",
     "output_type": "stream",
     "text": [
      "predicted=8.087108, actual=8.081274\n",
      "predicted=8.081585, actual=8.077680\n",
      "predicted=8.077531, actual=8.089697\n",
      "predicted=8.088920, actual=8.104341\n",
      "predicted=8.105186, actual=8.093722\n",
      "predicted=8.093330, actual=8.102617\n",
      "predicted=8.102154, actual=8.099038\n",
      "predicted=8.099181, actual=8.089805\n",
      "predicted=8.090578, actual=8.069827\n",
      "predicted=8.069658, actual=8.042812\n",
      "predicted=8.043851, actual=8.051771\n",
      "predicted=8.052419, actual=8.071984\n",
      "predicted=8.072092, actual=8.070922\n",
      "predicted=8.070355, actual=8.067290\n",
      "predicted=8.065954, actual=8.057678\n",
      "predicted=8.057730, actual=8.075303\n",
      "predicted=8.076090, actual=8.063661\n",
      "predicted=8.063639, actual=8.075054\n",
      "predicted=8.074977, actual=8.072779\n",
      "predicted=8.072068, actual=8.068027\n",
      "predicted=8.068824, actual=8.051930\n",
      "predicted=8.051551, actual=8.041992\n",
      "predicted=8.042850, actual=8.030442\n",
      "predicted=8.030930, actual=8.025304\n",
      "predicted=8.025821, actual=8.030035\n",
      "predicted=8.029866, actual=7.992421\n",
      "predicted=7.992632, actual=7.999746\n",
      "predicted=7.999892, actual=7.988916\n",
      "predicted=7.989100, actual=8.004800\n",
      "predicted=8.005621, actual=7.970499\n",
      "predicted=7.969321, actual=7.980776\n",
      "predicted=7.981373, actual=8.008482\n",
      "predicted=8.007806, actual=8.025876\n",
      "predicted=8.026310, actual=8.022798\n",
      "predicted=8.020804, actual=8.009047\n",
      "predicted=8.008846, actual=8.008682\n",
      "predicted=8.009605, actual=8.023208\n",
      "predicted=8.023942, actual=8.029742\n",
      "predicted=8.029588, actual=8.025500\n",
      "predicted=8.024740, actual=8.028178\n",
      "predicted=8.027853, actual=8.042394\n",
      "predicted=8.042678, actual=8.043326\n",
      "predicted=8.043362, actual=8.018461\n",
      "predicted=8.018292, actual=8.022962\n",
      "predicted=8.023158, actual=8.048676\n",
      "predicted=8.049191, actual=8.052806\n",
      "predicted=8.052709, actual=8.045941\n",
      "predicted=8.044600, actual=8.027754\n",
      "predicted=8.027726, actual=8.028390\n",
      "predicted=8.029669, actual=8.057868\n",
      "predicted=8.058114, actual=8.063960\n",
      "predicted=8.063403, actual=8.059908\n",
      "predicted=8.058689, actual=8.082989\n",
      "predicted=8.082290, actual=8.090923\n",
      "predicted=8.091476, actual=8.092973\n",
      "predicted=8.092765, actual=8.106922\n",
      "predicted=8.106122, actual=8.108398\n",
      "predicted=8.108832, actual=8.085348\n",
      "predicted=8.085595, actual=8.040463\n",
      "predicted=8.041070, actual=8.076810\n",
      "predicted=8.078135, actual=8.069389\n",
      "predicted=8.069853, actual=8.058897\n",
      "predicted=8.058515, actual=8.053426\n",
      "predicted=8.051637, actual=8.045204\n",
      "predicted=8.046972, actual=8.042217\n",
      "predicted=8.042379, actual=8.039415\n",
      "predicted=8.039325, actual=8.049427\n",
      "predicted=8.049351, actual=8.046902\n",
      "predicted=8.046526, actual=8.044065\n",
      "predicted=8.043937, actual=8.018181\n",
      "predicted=8.018284, actual=8.018625\n",
      "predicted=8.019559, actual=8.022815\n",
      "predicted=8.023092, actual=8.037769\n",
      "predicted=8.037825, actual=8.042844\n",
      "predicted=8.041504, actual=8.049714\n",
      "predicted=8.049274, actual=8.053728\n",
      "predicted=8.053398, actual=8.046421\n",
      "predicted=8.046768, actual=8.035149\n",
      "predicted=8.035413, actual=8.023389\n"
     ]
    },
    {
     "name": "stderr",
     "output_type": "stream",
     "text": [
      "c:\\Users\\ronak\\AppData\\Local\\Programs\\Python\\Python311\\Lib\\site-packages\\statsmodels\\base\\model.py:604: ConvergenceWarning: Maximum Likelihood optimization failed to converge. Check mle_retvals\n",
      "  warnings.warn(\"Maximum Likelihood optimization failed to \"\n"
     ]
    },
    {
     "name": "stdout",
     "output_type": "stream",
     "text": [
      "predicted=8.024009, actual=8.029351\n",
      "predicted=8.029947, actual=8.035538\n",
      "predicted=8.035462, actual=8.033334\n",
      "predicted=8.032933, actual=8.026170\n",
      "predicted=8.025678, actual=8.032847\n",
      "predicted=8.033068, actual=8.033172\n",
      "predicted=8.033401, actual=8.043663\n",
      "predicted=8.043485, actual=8.057853\n",
      "predicted=8.057148, actual=8.064636\n",
      "predicted=8.064371, actual=8.053124\n",
      "predicted=8.052731, actual=8.058058\n",
      "predicted=8.058277, actual=8.056110\n",
      "predicted=8.056602, actual=8.048613\n",
      "predicted=8.049068, actual=8.052376\n",
      "predicted=8.052032, actual=8.053172\n",
      "predicted=8.053408, actual=8.065642\n",
      "predicted=8.065499, actual=8.070953\n",
      "predicted=8.070325, actual=8.070984\n",
      "predicted=8.070811, actual=8.076142\n",
      "predicted=8.075841, actual=8.093707\n",
      "predicted=8.093796, actual=8.094485\n",
      "predicted=8.094248, actual=8.090326\n",
      "predicted=8.090006, actual=8.093875\n",
      "predicted=8.093817, actual=8.107042\n",
      "predicted=8.107518, actual=8.100859\n",
      "predicted=8.100700, actual=8.093493\n",
      "predicted=8.093287, actual=8.102041\n",
      "predicted=8.102120, actual=8.089912\n",
      "predicted=8.090527, actual=8.123736\n",
      "predicted=8.123389, actual=8.125868\n",
      "predicted=8.124981, actual=8.112753\n",
      "predicted=8.112841, actual=8.113981\n",
      "predicted=8.113226, actual=8.115446\n",
      "predicted=8.116772, actual=8.114175\n"
     ]
    },
    {
     "name": "stderr",
     "output_type": "stream",
     "text": [
      "c:\\Users\\ronak\\AppData\\Local\\Programs\\Python\\Python311\\Lib\\site-packages\\statsmodels\\base\\model.py:604: ConvergenceWarning: Maximum Likelihood optimization failed to converge. Check mle_retvals\n",
      "  warnings.warn(\"Maximum Likelihood optimization failed to \"\n"
     ]
    },
    {
     "name": "stdout",
     "output_type": "stream",
     "text": [
      "predicted=8.114424, actual=8.109360\n",
      "predicted=8.108928, actual=8.108021\n",
      "predicted=8.108170, actual=8.090188\n",
      "predicted=8.090538, actual=8.094058\n",
      "predicted=8.094420, actual=8.089022\n"
     ]
    },
    {
     "name": "stderr",
     "output_type": "stream",
     "text": [
      "c:\\Users\\ronak\\AppData\\Local\\Programs\\Python\\Python311\\Lib\\site-packages\\statsmodels\\base\\model.py:604: ConvergenceWarning: Maximum Likelihood optimization failed to converge. Check mle_retvals\n",
      "  warnings.warn(\"Maximum Likelihood optimization failed to \"\n"
     ]
    },
    {
     "name": "stdout",
     "output_type": "stream",
     "text": [
      "predicted=8.089110, actual=8.073450\n",
      "predicted=8.073884, actual=8.068748\n",
      "predicted=8.068477, actual=8.067008\n",
      "predicted=8.067557, actual=8.075443\n",
      "predicted=8.075524, actual=8.071828\n",
      "predicted=8.071240, actual=8.069280\n",
      "predicted=8.069114, actual=8.066082\n",
      "predicted=8.066023, actual=8.072717\n",
      "predicted=8.073107, actual=8.076002\n",
      "predicted=8.075795, actual=8.074914\n",
      "predicted=8.074722, actual=8.070140\n",
      "predicted=8.069945, actual=8.065564\n",
      "predicted=8.065907, actual=8.070218\n",
      "predicted=8.070466, actual=8.069593\n",
      "predicted=8.069609, actual=8.060682\n",
      "predicted=8.060616, actual=8.076950\n",
      "predicted=8.076733, actual=8.097091\n",
      "predicted=8.096872, actual=8.093752\n",
      "predicted=8.093261, actual=8.096802\n",
      "predicted=8.095982, actual=8.104643\n",
      "predicted=8.104823, actual=8.108533\n",
      "predicted=8.109063, actual=8.111898\n",
      "predicted=8.111511, actual=8.114983\n",
      "predicted=8.114821, actual=8.117238\n",
      "predicted=8.117328, actual=8.150006\n",
      "predicted=8.149691, actual=8.152760\n",
      "predicted=8.152128, actual=8.175562\n",
      "predicted=8.174921, actual=8.177670\n",
      "predicted=8.176782, actual=8.177375\n",
      "predicted=8.178173, actual=8.199024\n",
      "predicted=8.198568, actual=8.192349\n",
      "predicted=8.192827, actual=8.204945\n",
      "predicted=8.204747, actual=8.208451\n",
      "predicted=8.207941, actual=8.221519\n",
      "predicted=8.222075, actual=8.216439\n"
     ]
    },
    {
     "name": "stderr",
     "output_type": "stream",
     "text": [
      "c:\\Users\\ronak\\AppData\\Local\\Programs\\Python\\Python311\\Lib\\site-packages\\statsmodels\\base\\model.py:604: ConvergenceWarning: Maximum Likelihood optimization failed to converge. Check mle_retvals\n",
      "  warnings.warn(\"Maximum Likelihood optimization failed to \"\n"
     ]
    },
    {
     "name": "stdout",
     "output_type": "stream",
     "text": [
      "predicted=8.215775, actual=8.239184\n",
      "predicted=8.239301, actual=8.220120\n",
      "predicted=8.219929, actual=8.252381\n",
      "predicted=8.252581, actual=8.253761\n",
      "predicted=8.252971, actual=8.256348\n",
      "predicted=8.256952, actual=8.246932\n",
      "predicted=8.245850, actual=8.235930\n"
     ]
    },
    {
     "name": "stderr",
     "output_type": "stream",
     "text": [
      "c:\\Users\\ronak\\AppData\\Local\\Programs\\Python\\Python311\\Lib\\site-packages\\statsmodels\\base\\model.py:604: ConvergenceWarning: Maximum Likelihood optimization failed to converge. Check mle_retvals\n",
      "  warnings.warn(\"Maximum Likelihood optimization failed to \"\n"
     ]
    },
    {
     "name": "stdout",
     "output_type": "stream",
     "text": [
      "predicted=8.237342, actual=8.240491\n",
      "predicted=8.240772, actual=8.254620\n",
      "predicted=8.254768, actual=8.265110\n",
      "predicted=8.264496, actual=8.282622\n",
      "predicted=8.281595, actual=8.269578\n",
      "predicted=8.269246, actual=8.250059\n",
      "predicted=8.250598, actual=8.248922\n",
      "predicted=8.249594, actual=8.259186\n",
      "predicted=8.260224, actual=8.258979\n",
      "predicted=8.258616, actual=8.260816\n",
      "predicted=8.259942, actual=8.261346\n",
      "predicted=8.261124, actual=8.252433\n",
      "predicted=8.252872, actual=8.237254\n",
      "predicted=8.237523, actual=8.240622\n",
      "predicted=8.241044, actual=8.236301\n",
      "predicted=8.236662, actual=8.224217\n",
      "predicted=8.224255, actual=8.235705\n",
      "predicted=8.235254, actual=8.251481\n",
      "predicted=8.251479, actual=8.245621\n",
      "predicted=8.245251, actual=8.266910\n",
      "predicted=8.265956, actual=8.277831\n",
      "predicted=8.277617, actual=8.212189\n",
      "predicted=8.213067, actual=8.203263\n",
      "predicted=8.203934, actual=8.203906\n",
      "predicted=8.205549, actual=8.191865\n",
      "predicted=8.193514, actual=8.201701\n",
      "predicted=8.199711, actual=8.198130\n",
      "predicted=8.197815, actual=8.191144\n",
      "predicted=8.191384, actual=8.169761\n",
      "predicted=8.169584, actual=8.160190\n",
      "predicted=8.161184, actual=8.158502\n",
      "predicted=8.158967, actual=8.155534\n",
      "predicted=8.155826, actual=8.157585\n",
      "predicted=8.157058, actual=8.137878\n"
     ]
    },
    {
     "name": "stderr",
     "output_type": "stream",
     "text": [
      "c:\\Users\\ronak\\AppData\\Local\\Programs\\Python\\Python311\\Lib\\site-packages\\statsmodels\\base\\model.py:604: ConvergenceWarning: Maximum Likelihood optimization failed to converge. Check mle_retvals\n",
      "  warnings.warn(\"Maximum Likelihood optimization failed to \"\n"
     ]
    },
    {
     "name": "stdout",
     "output_type": "stream",
     "text": [
      "predicted=8.137765, actual=8.130869\n",
      "predicted=8.131272, actual=8.153753\n",
      "predicted=8.153771, actual=8.155994\n"
     ]
    },
    {
     "name": "stderr",
     "output_type": "stream",
     "text": [
      "c:\\Users\\ronak\\AppData\\Local\\Programs\\Python\\Python311\\Lib\\site-packages\\statsmodels\\base\\model.py:604: ConvergenceWarning: Maximum Likelihood optimization failed to converge. Check mle_retvals\n",
      "  warnings.warn(\"Maximum Likelihood optimization failed to \"\n"
     ]
    },
    {
     "name": "stdout",
     "output_type": "stream",
     "text": [
      "predicted=8.156008, actual=8.158302\n",
      "predicted=8.157362, actual=8.162987\n",
      "predicted=8.162246, actual=8.161304\n",
      "predicted=8.161968, actual=8.162145\n",
      "predicted=8.162152, actual=8.156022\n",
      "predicted=8.156093, actual=8.157141\n",
      "predicted=8.157430, actual=8.167934\n",
      "predicted=8.167808, actual=8.175632\n",
      "predicted=8.175462, actual=8.176504\n",
      "predicted=8.175975, actual=8.166756\n",
      "predicted=8.166598, actual=8.153551\n",
      "predicted=8.154111, actual=8.148561\n",
      "predicted=8.149249, actual=8.150251\n",
      "predicted=8.150697, actual=8.144186\n"
     ]
    },
    {
     "name": "stderr",
     "output_type": "stream",
     "text": [
      "c:\\Users\\ronak\\AppData\\Local\\Programs\\Python\\Python311\\Lib\\site-packages\\statsmodels\\base\\model.py:604: ConvergenceWarning: Maximum Likelihood optimization failed to converge. Check mle_retvals\n",
      "  warnings.warn(\"Maximum Likelihood optimization failed to \"\n"
     ]
    },
    {
     "name": "stdout",
     "output_type": "stream",
     "text": [
      "predicted=8.144152, actual=8.144940\n",
      "predicted=8.144648, actual=8.145216\n",
      "predicted=8.145073, actual=8.161090\n",
      "predicted=8.161081, actual=8.168812\n",
      "predicted=8.168202, actual=8.182503\n",
      "predicted=8.182044, actual=8.200535\n",
      "predicted=8.199763, actual=8.199863\n"
     ]
    },
    {
     "name": "stderr",
     "output_type": "stream",
     "text": [
      "c:\\Users\\ronak\\AppData\\Local\\Programs\\Python\\Python311\\Lib\\site-packages\\statsmodels\\base\\model.py:604: ConvergenceWarning: Maximum Likelihood optimization failed to converge. Check mle_retvals\n",
      "  warnings.warn(\"Maximum Likelihood optimization failed to \"\n"
     ]
    },
    {
     "name": "stdout",
     "output_type": "stream",
     "text": [
      "predicted=8.199782, actual=8.170865\n",
      "predicted=8.170936, actual=8.184374\n",
      "predicted=8.184996, actual=8.196134\n",
      "predicted=8.196762, actual=8.189175\n",
      "predicted=8.189287, actual=8.198859\n",
      "predicted=8.197534, actual=8.191366\n",
      "predicted=8.191602, actual=8.195278\n"
     ]
    },
    {
     "name": "stderr",
     "output_type": "stream",
     "text": [
      "c:\\Users\\ronak\\AppData\\Local\\Programs\\Python\\Python311\\Lib\\site-packages\\statsmodels\\base\\model.py:604: ConvergenceWarning: Maximum Likelihood optimization failed to converge. Check mle_retvals\n",
      "  warnings.warn(\"Maximum Likelihood optimization failed to \"\n"
     ]
    },
    {
     "name": "stdout",
     "output_type": "stream",
     "text": [
      "predicted=8.195796, actual=8.180419\n",
      "predicted=8.180178, actual=8.183565\n",
      "predicted=8.184238, actual=8.184332\n",
      "predicted=8.184128, actual=8.176645\n",
      "predicted=8.177048, actual=8.190992\n",
      "predicted=8.190424, actual=8.197195\n",
      "predicted=8.197041, actual=8.205956\n",
      "predicted=8.205724, actual=8.208192\n",
      "predicted=8.207411, actual=8.215034\n",
      "predicted=8.215205, actual=8.217857\n",
      "predicted=8.217735, actual=8.214655\n",
      "predicted=8.214810, actual=8.225168\n",
      "predicted=8.225057, actual=8.226400\n",
      "predicted=8.226412, actual=8.247417\n",
      "predicted=8.247212, actual=8.264814\n",
      "predicted=8.263947, actual=8.258669\n",
      "predicted=8.258478, actual=8.244715\n",
      "predicted=8.244433, actual=8.256737\n",
      "predicted=8.257420, actual=8.263552\n",
      "predicted=8.264131, actual=8.272800\n",
      "predicted=8.272444, actual=8.258397\n",
      "predicted=8.257574, actual=8.268193\n",
      "predicted=8.268580, actual=8.286055\n",
      "predicted=8.285965, actual=8.298826\n",
      "predicted=8.298785, actual=8.291697\n",
      "predicted=8.290616, actual=8.272481\n",
      "predicted=8.272698, actual=8.249719\n",
      "predicted=8.250819, actual=8.251534\n",
      "predicted=8.252807, actual=8.235188\n",
      "predicted=8.235650, actual=8.234804\n",
      "predicted=8.234797, actual=8.202277\n",
      "predicted=8.201926, actual=8.213395\n",
      "predicted=8.214231, actual=8.225838\n",
      "predicted=8.225371, actual=8.242927\n",
      "predicted=8.242874, actual=8.257438\n",
      "predicted=8.255495, actual=8.249209\n",
      "predicted=8.248955, actual=8.246670\n",
      "predicted=8.246810, actual=8.237215\n",
      "predicted=8.237825, actual=8.227763\n",
      "predicted=8.228702, actual=8.232321\n",
      "predicted=8.232350, actual=8.234923\n",
      "predicted=8.235016, actual=8.214722\n",
      "predicted=8.214596, actual=8.225168\n",
      "predicted=8.225025, actual=8.247430\n"
     ]
    },
    {
     "name": "stderr",
     "output_type": "stream",
     "text": [
      "c:\\Users\\ronak\\AppData\\Local\\Programs\\Python\\Python311\\Lib\\site-packages\\statsmodels\\base\\model.py:604: ConvergenceWarning: Maximum Likelihood optimization failed to converge. Check mle_retvals\n",
      "  warnings.warn(\"Maximum Likelihood optimization failed to \"\n"
     ]
    },
    {
     "name": "stdout",
     "output_type": "stream",
     "text": [
      "predicted=8.247436, actual=8.246198\n",
      "predicted=8.246044, actual=8.238590\n",
      "predicted=8.237496, actual=8.241150\n",
      "predicted=8.241301, actual=8.221318\n",
      "predicted=8.222324, actual=8.184904\n",
      "predicted=8.185621, actual=8.178583\n",
      "predicted=8.179318, actual=8.132016\n",
      "predicted=8.133296, actual=8.166429\n",
      "predicted=8.167016, actual=8.175885\n"
     ]
    },
    {
     "name": "stderr",
     "output_type": "stream",
     "text": [
      "c:\\Users\\ronak\\AppData\\Local\\Programs\\Python\\Python311\\Lib\\site-packages\\statsmodels\\base\\model.py:604: ConvergenceWarning: Maximum Likelihood optimization failed to converge. Check mle_retvals\n",
      "  warnings.warn(\"Maximum Likelihood optimization failed to \"\n"
     ]
    },
    {
     "name": "stdout",
     "output_type": "stream",
     "text": [
      "predicted=8.174703, actual=8.173618\n",
      "predicted=8.173610, actual=8.173124\n",
      "predicted=8.170850, actual=8.167451\n",
      "predicted=8.168537, actual=8.156195\n",
      "predicted=8.156756, actual=8.188675\n",
      "predicted=8.188615, actual=8.197704\n",
      "predicted=8.197261, actual=8.194492\n",
      "predicted=8.193912, actual=8.188453\n",
      "predicted=8.187464, actual=8.200563\n",
      "predicted=8.201554, actual=8.186993\n"
     ]
    },
    {
     "name": "stderr",
     "output_type": "stream",
     "text": [
      "c:\\Users\\ronak\\AppData\\Local\\Programs\\Python\\Python311\\Lib\\site-packages\\statsmodels\\base\\model.py:604: ConvergenceWarning: Maximum Likelihood optimization failed to converge. Check mle_retvals\n",
      "  warnings.warn(\"Maximum Likelihood optimization failed to \"\n"
     ]
    },
    {
     "name": "stdout",
     "output_type": "stream",
     "text": [
      "predicted=8.187320, actual=8.204098\n",
      "predicted=8.204030, actual=8.208696\n",
      "predicted=8.208106, actual=8.196078\n",
      "predicted=8.196517, actual=8.216345\n",
      "predicted=8.215564, actual=8.219434\n",
      "predicted=8.219678, actual=8.229471\n",
      "predicted=8.229437, actual=8.218100\n"
     ]
    },
    {
     "name": "stderr",
     "output_type": "stream",
     "text": [
      "c:\\Users\\ronak\\AppData\\Local\\Programs\\Python\\Python311\\Lib\\site-packages\\statsmodels\\base\\model.py:604: ConvergenceWarning: Maximum Likelihood optimization failed to converge. Check mle_retvals\n",
      "  warnings.warn(\"Maximum Likelihood optimization failed to \"\n"
     ]
    },
    {
     "name": "stdout",
     "output_type": "stream",
     "text": [
      "predicted=8.217180, actual=8.218167\n",
      "predicted=8.218868, actual=8.217533\n"
     ]
    },
    {
     "name": "stderr",
     "output_type": "stream",
     "text": [
      "c:\\Users\\ronak\\AppData\\Local\\Programs\\Python\\Python311\\Lib\\site-packages\\statsmodels\\base\\model.py:604: ConvergenceWarning: Maximum Likelihood optimization failed to converge. Check mle_retvals\n",
      "  warnings.warn(\"Maximum Likelihood optimization failed to \"\n"
     ]
    },
    {
     "name": "stdout",
     "output_type": "stream",
     "text": [
      "predicted=8.217616, actual=8.224579\n",
      "predicted=8.225068, actual=8.226828\n",
      "predicted=8.226299, actual=8.231842\n",
      "predicted=8.231670, actual=8.234923\n",
      "predicted=8.234621, actual=8.246644\n",
      "predicted=8.246607, actual=8.230937\n",
      "predicted=8.230807, actual=8.211795\n",
      "predicted=8.212213, actual=8.212202\n",
      "predicted=8.212671, actual=8.215115\n",
      "predicted=8.216025, actual=8.213680\n",
      "predicted=8.213453, actual=8.205751\n",
      "predicted=8.205160, actual=8.168501\n",
      "predicted=8.168953, actual=8.152457\n",
      "predicted=8.153519, actual=8.176617\n",
      "predicted=8.177360, actual=8.196616\n",
      "predicted=8.196620, actual=8.192169\n",
      "predicted=8.190436, actual=8.174196\n",
      "predicted=8.173124, actual=8.173660\n",
      "predicted=8.174605, actual=8.177853\n"
     ]
    },
    {
     "name": "stderr",
     "output_type": "stream",
     "text": [
      "c:\\Users\\ronak\\AppData\\Local\\Programs\\Python\\Python311\\Lib\\site-packages\\statsmodels\\base\\model.py:604: ConvergenceWarning: Maximum Likelihood optimization failed to converge. Check mle_retvals\n",
      "  warnings.warn(\"Maximum Likelihood optimization failed to \"\n"
     ]
    },
    {
     "name": "stdout",
     "output_type": "stream",
     "text": [
      "predicted=8.178896, actual=8.184318\n",
      "predicted=8.184348, actual=8.173773\n",
      "predicted=8.173025, actual=8.172560\n",
      "predicted=8.172597, actual=8.154716\n",
      "predicted=8.155083, actual=8.164339\n",
      "predicted=8.165065, actual=8.141073\n",
      "predicted=8.141003, actual=8.144708\n",
      "predicted=8.145253, actual=8.142863\n",
      "predicted=8.142385, actual=8.135054\n",
      "predicted=8.135838, actual=8.134072\n",
      "predicted=8.133378, actual=8.135903\n",
      "predicted=8.136192, actual=8.124684\n",
      "predicted=8.124824, actual=8.146593\n",
      "predicted=8.146340, actual=8.145782\n",
      "predicted=8.145460, actual=8.090080\n",
      "predicted=8.090511, actual=8.099554\n",
      "predicted=8.099900, actual=8.108247\n",
      "predicted=8.109566, actual=8.098035\n",
      "predicted=8.098738, actual=8.060745\n",
      "predicted=8.059090, actual=8.079293\n",
      "predicted=8.080305, actual=8.089881\n",
      "predicted=8.090321, actual=8.124225\n",
      "predicted=8.123580, actual=8.120990\n",
      "predicted=8.118532, actual=8.118267\n",
      "predicted=8.118294, actual=8.138273\n",
      "predicted=8.138071, actual=8.143270\n",
      "predicted=8.144047, actual=8.140592\n",
      "predicted=8.140128, actual=8.120499\n",
      "predicted=8.120290, actual=8.132751\n",
      "predicted=8.133760, actual=8.139470\n",
      "predicted=8.139646, actual=8.119666\n",
      "predicted=8.119694, actual=8.077012\n",
      "predicted=8.076885, actual=8.074198\n",
      "predicted=8.075882, actual=8.072873\n",
      "predicted=8.074099, actual=8.052615\n",
      "predicted=8.052684, actual=8.035570\n"
     ]
    },
    {
     "name": "stderr",
     "output_type": "stream",
     "text": [
      "c:\\Users\\ronak\\AppData\\Local\\Programs\\Python\\Python311\\Lib\\site-packages\\statsmodels\\base\\model.py:604: ConvergenceWarning: Maximum Likelihood optimization failed to converge. Check mle_retvals\n",
      "  warnings.warn(\"Maximum Likelihood optimization failed to \"\n"
     ]
    },
    {
     "name": "stdout",
     "output_type": "stream",
     "text": [
      "predicted=8.034733, actual=8.043149\n",
      "predicted=8.043701, actual=8.074633\n",
      "predicted=8.074651, actual=8.078052\n",
      "predicted=8.076646, actual=8.104341\n",
      "predicted=8.102929, actual=8.099585\n",
      "predicted=8.098839, actual=8.106122\n",
      "predicted=8.106811, actual=8.107163\n",
      "predicted=8.106886, actual=8.098795\n",
      "predicted=8.099682, actual=8.091658\n",
      "predicted=8.091651, actual=8.106243\n",
      "predicted=8.106630, actual=8.081800\n",
      "predicted=8.081902, actual=8.075987\n",
      "predicted=8.076185, actual=8.089713\n",
      "predicted=8.089685, actual=8.097989\n",
      "predicted=8.098457, actual=8.091153\n",
      "predicted=8.090070, actual=8.043599\n",
      "predicted=8.043640, actual=8.034210\n",
      "predicted=8.035902, actual=8.019202\n",
      "predicted=8.020615, actual=8.005951\n",
      "predicted=8.006823, actual=8.004566\n",
      "predicted=8.003582, actual=8.027313\n",
      "predicted=8.027263, actual=8.030816\n",
      "predicted=8.029951, actual=8.059845\n",
      "predicted=8.058832, actual=8.063787\n",
      "predicted=8.062742, actual=8.061802\n",
      "predicted=8.061975, actual=8.060461\n",
      "predicted=8.060216, actual=8.044273\n",
      "predicted=8.045307, actual=8.067416\n"
     ]
    },
    {
     "name": "stderr",
     "output_type": "stream",
     "text": [
      "c:\\Users\\ronak\\AppData\\Local\\Programs\\Python\\Python311\\Lib\\site-packages\\statsmodels\\base\\model.py:604: ConvergenceWarning: Maximum Likelihood optimization failed to converge. Check mle_retvals\n",
      "  warnings.warn(\"Maximum Likelihood optimization failed to \"\n"
     ]
    },
    {
     "name": "stdout",
     "output_type": "stream",
     "text": [
      "predicted=8.067802, actual=8.089636\n",
      "predicted=8.089174, actual=8.102253\n",
      "predicted=8.101486, actual=8.101314\n",
      "predicted=8.099870, actual=8.099190\n",
      "predicted=8.099504, actual=8.113576\n",
      "predicted=8.114140, actual=8.118192\n",
      "predicted=8.118306, actual=8.121198\n",
      "predicted=8.120853, actual=8.123988\n",
      "predicted=8.123589, actual=8.117983\n",
      "predicted=8.118330, actual=8.138127\n",
      "predicted=8.138224, actual=8.131987\n",
      "predicted=8.131730, actual=8.129381\n",
      "predicted=8.129395, actual=8.131854\n",
      "predicted=8.131543, actual=8.126001\n",
      "predicted=8.126772, actual=8.127331\n",
      "predicted=8.127242, actual=8.118073\n",
      "predicted=8.118067, actual=8.097000\n",
      "predicted=8.097461, actual=8.088055\n",
      "predicted=8.088496, actual=8.076577\n",
      "predicted=8.077305, actual=8.077820\n",
      "predicted=8.078144, actual=8.049603\n",
      "predicted=8.049272, actual=8.074384\n",
      "predicted=8.074658, actual=8.049331\n",
      "predicted=8.049011, actual=8.048916\n",
      "predicted=8.049433, actual=8.049874\n",
      "predicted=8.049009, actual=8.047845\n",
      "predicted=8.048975, actual=8.055031\n",
      "predicted=8.054160, actual=8.061376\n",
      "predicted=8.061190, actual=8.076407\n",
      "predicted=8.076125, actual=8.084239\n",
      "predicted=8.083633, actual=8.080036\n",
      "predicted=8.079848, actual=8.045716\n",
      "predicted=8.045935, actual=8.040560\n",
      "predicted=8.041781, actual=8.009263\n",
      "predicted=8.010390, actual=8.015922\n",
      "predicted=8.016861, actual=8.019711\n",
      "predicted=8.018980, actual=8.006767\n",
      "predicted=8.006891, actual=8.008831\n",
      "predicted=8.007885, actual=8.000366\n",
      "predicted=8.000752, actual=8.004499\n",
      "predicted=8.004899, actual=8.012167\n",
      "predicted=8.011703, actual=8.018181\n",
      "predicted=8.018107, actual=8.005467\n",
      "predicted=8.004974, actual=8.007883\n",
      "predicted=8.008069, actual=8.001338\n",
      "predicted=8.001710, actual=8.036298\n",
      "predicted=8.036516, actual=8.039786\n",
      "predicted=8.038722, actual=8.027770\n",
      "predicted=8.027391, actual=8.045123\n"
     ]
    },
    {
     "name": "stderr",
     "output_type": "stream",
     "text": [
      "c:\\Users\\ronak\\AppData\\Local\\Programs\\Python\\Python311\\Lib\\site-packages\\statsmodels\\base\\model.py:604: ConvergenceWarning: Maximum Likelihood optimization failed to converge. Check mle_retvals\n",
      "  warnings.warn(\"Maximum Likelihood optimization failed to \"\n"
     ]
    },
    {
     "name": "stdout",
     "output_type": "stream",
     "text": [
      "predicted=8.044527, actual=8.029286\n",
      "predicted=8.030392, actual=8.039399\n",
      "predicted=8.039650, actual=8.040221\n",
      "predicted=8.039613, actual=8.038883\n",
      "predicted=8.039535, actual=8.042941\n",
      "predicted=8.042239, actual=8.053474\n",
      "predicted=8.053677, actual=8.046181\n",
      "predicted=8.046013, actual=8.057473\n",
      "predicted=8.057271, actual=8.051150\n",
      "predicted=8.051090, actual=8.058865\n",
      "predicted=8.059215, actual=8.058992\n",
      "predicted=8.058538, actual=8.057504\n",
      "predicted=8.057868, actual=8.059355\n",
      "predicted=8.059048, actual=8.068763\n",
      "predicted=8.068943, actual=8.089390\n",
      "predicted=8.089053, actual=8.083853\n",
      "predicted=8.083276, actual=8.073013\n",
      "predicted=8.072826, actual=8.076329\n",
      "predicted=8.076659, actual=8.081382\n",
      "predicted=8.082234, actual=8.075909\n",
      "predicted=8.075748, actual=8.072670\n"
     ]
    },
    {
     "name": "stderr",
     "output_type": "stream",
     "text": [
      "c:\\Users\\ronak\\AppData\\Local\\Programs\\Python\\Python311\\Lib\\site-packages\\statsmodels\\base\\model.py:604: ConvergenceWarning: Maximum Likelihood optimization failed to converge. Check mle_retvals\n",
      "  warnings.warn(\"Maximum Likelihood optimization failed to \"\n"
     ]
    },
    {
     "name": "stdout",
     "output_type": "stream",
     "text": [
      "predicted=8.072307, actual=8.106499\n",
      "predicted=8.106438, actual=8.112378\n",
      "predicted=8.111950, actual=8.111508\n",
      "predicted=8.110740, actual=8.118311\n",
      "predicted=8.117651, actual=8.116417\n",
      "predicted=8.117388, actual=8.114758\n",
      "predicted=8.114919, actual=8.096665\n",
      "predicted=8.096743, actual=8.106198\n",
      "predicted=8.106766, actual=8.104190\n",
      "predicted=8.104243, actual=8.125675\n",
      "predicted=8.125577, actual=8.128482\n",
      "predicted=8.127336, actual=8.130133\n",
      "predicted=8.130081, actual=8.130751\n",
      "predicted=8.130329, actual=8.128821\n",
      "predicted=8.129487, actual=8.153537\n",
      "predicted=8.153453, actual=8.142980\n",
      "predicted=8.142659, actual=8.139119\n",
      "predicted=8.139023, actual=8.127213\n",
      "predicted=8.127167, actual=8.125809\n",
      "predicted=8.127095, actual=8.116880\n",
      "predicted=8.116852, actual=8.099478\n",
      "predicted=8.099821, actual=8.097563\n",
      "predicted=8.097660, actual=8.111358\n",
      "predicted=8.111625, actual=8.121287\n",
      "predicted=8.120889, actual=8.103222\n",
      "predicted=8.102374, actual=8.083406\n",
      "predicted=8.083518, actual=8.071547\n",
      "predicted=8.072668, actual=8.084547\n",
      "predicted=8.085586, actual=8.092102\n"
     ]
    },
    {
     "name": "stderr",
     "output_type": "stream",
     "text": [
      "c:\\Users\\ronak\\AppData\\Local\\Programs\\Python\\Python311\\Lib\\site-packages\\statsmodels\\base\\model.py:604: ConvergenceWarning: Maximum Likelihood optimization failed to converge. Check mle_retvals\n",
      "  warnings.warn(\"Maximum Likelihood optimization failed to \"\n"
     ]
    },
    {
     "name": "stdout",
     "output_type": "stream",
     "text": [
      "predicted=8.091598, actual=8.089390\n",
      "predicted=8.088496, actual=8.079726\n",
      "predicted=8.079147, actual=8.087302\n",
      "predicted=8.087854, actual=8.089329\n",
      "predicted=8.089619, actual=8.088593\n",
      "predicted=8.088453, actual=8.092163\n",
      "predicted=8.091689, actual=8.088470\n",
      "predicted=8.088677, actual=8.089927\n",
      "predicted=8.090013, actual=8.105111\n",
      "predicted=8.104966, actual=8.106107\n",
      "predicted=8.105937, actual=8.105036\n",
      "predicted=8.104625, actual=8.074509\n",
      "predicted=8.074594, actual=8.107705\n"
     ]
    },
    {
     "name": "stderr",
     "output_type": "stream",
     "text": [
      "c:\\Users\\ronak\\AppData\\Local\\Programs\\Python\\Python311\\Lib\\site-packages\\statsmodels\\base\\model.py:604: ConvergenceWarning: Maximum Likelihood optimization failed to converge. Check mle_retvals\n",
      "  warnings.warn(\"Maximum Likelihood optimization failed to \"\n"
     ]
    },
    {
     "name": "stdout",
     "output_type": "stream",
     "text": [
      "predicted=8.108600, actual=8.097548\n",
      "predicted=8.097536, actual=8.110337\n",
      "predicted=8.110161, actual=8.112033\n",
      "predicted=8.110483, actual=8.124017\n",
      "predicted=8.124917, actual=8.111943\n",
      "predicted=8.111301, actual=8.125157\n",
      "predicted=8.125471, actual=8.128585\n",
      "predicted=8.128441, actual=8.123588\n",
      "predicted=8.123872, actual=8.120618\n",
      "predicted=8.120129, actual=8.135903\n",
      "predicted=8.136318, actual=8.142151\n",
      "predicted=8.142017, actual=8.140243\n",
      "predicted=8.139730, actual=8.134775\n",
      "predicted=8.134490, actual=8.141379\n",
      "predicted=8.141911, actual=8.119309\n",
      "predicted=8.119711, actual=8.133984\n",
      "predicted=8.134145, actual=8.149139\n"
     ]
    },
    {
     "name": "stderr",
     "output_type": "stream",
     "text": [
      "c:\\Users\\ronak\\AppData\\Local\\Programs\\Python\\Python311\\Lib\\site-packages\\statsmodels\\base\\model.py:604: ConvergenceWarning: Maximum Likelihood optimization failed to converge. Check mle_retvals\n",
      "  warnings.warn(\"Maximum Likelihood optimization failed to \"\n"
     ]
    },
    {
     "name": "stdout",
     "output_type": "stream",
     "text": [
      "predicted=8.148843, actual=8.155448\n",
      "predicted=8.155287, actual=8.149009\n",
      "predicted=8.147783, actual=8.152644\n",
      "predicted=8.152954, actual=8.166245\n",
      "predicted=8.166603, actual=8.172122\n",
      "predicted=8.172012, actual=8.171190\n",
      "predicted=8.170587, actual=8.155477\n",
      "predicted=8.155518, actual=8.160547\n",
      "predicted=8.161227, actual=8.166401\n"
     ]
    },
    {
     "name": "stderr",
     "output_type": "stream",
     "text": [
      "c:\\Users\\ronak\\AppData\\Local\\Programs\\Python\\Python311\\Lib\\site-packages\\statsmodels\\base\\model.py:604: ConvergenceWarning: Maximum Likelihood optimization failed to converge. Check mle_retvals\n",
      "  warnings.warn(\"Maximum Likelihood optimization failed to \"\n"
     ]
    },
    {
     "name": "stdout",
     "output_type": "stream",
     "text": [
      "predicted=8.166736, actual=8.176968\n",
      "predicted=8.176789, actual=8.160847\n",
      "predicted=8.160098, actual=8.156883\n",
      "predicted=8.157164, actual=8.146419\n",
      "predicted=8.146986, actual=8.131987\n",
      "predicted=8.132916, actual=8.135581\n",
      "predicted=8.135520, actual=8.131663\n",
      "predicted=8.131861, actual=8.111283\n",
      "predicted=8.111268, actual=8.105564\n",
      "predicted=8.105562, actual=8.127316\n",
      "predicted=8.127758, actual=8.108157\n",
      "predicted=8.108064, actual=8.114370\n",
      "predicted=8.113686, actual=8.123217\n",
      "predicted=8.122932, actual=8.128703\n",
      "predicted=8.129272, actual=8.112783\n",
      "predicted=8.111984, actual=8.111028\n",
      "predicted=8.111396, actual=8.096193\n",
      "predicted=8.096890, actual=8.075567\n",
      "predicted=8.076417, actual=8.070562\n",
      "predicted=8.070774, actual=8.066208\n",
      "predicted=8.066782, actual=8.064416\n",
      "predicted=8.064315, actual=8.053028\n",
      "predicted=8.052610, actual=8.041123\n",
      "predicted=8.041358, actual=8.049044\n",
      "predicted=8.049274, actual=8.047078\n",
      "predicted=8.047183, actual=8.045749\n",
      "predicted=8.045398, actual=8.046325\n",
      "predicted=8.045914, actual=8.044273\n",
      "predicted=8.044582, actual=8.051628\n",
      "predicted=8.051539, actual=8.072748\n",
      "predicted=8.072401, actual=8.070906\n",
      "predicted=8.070417, actual=8.083267\n",
      "predicted=8.082704, actual=8.077354\n",
      "predicted=8.077245, actual=8.090525\n",
      "predicted=8.091029, actual=8.075209\n",
      "predicted=8.075030, actual=8.083838\n",
      "predicted=8.084279, actual=8.067416\n",
      "predicted=8.067374, actual=8.051819\n",
      "predicted=8.052694, actual=8.049028\n",
      "predicted=8.049056, actual=8.035797\n",
      "predicted=8.036665, actual=8.040705\n",
      "predicted=8.040553, actual=8.058596\n",
      "predicted=8.058083, actual=8.063000\n",
      "predicted=8.062570, actual=8.063378\n",
      "predicted=8.062509, actual=8.070328\n",
      "predicted=8.070175, actual=8.067133\n",
      "predicted=8.067562, actual=8.076904\n",
      "predicted=8.076896, actual=8.076950\n",
      "predicted=8.076768, actual=8.064605\n",
      "predicted=8.064807, actual=8.077354\n",
      "predicted=8.077271, actual=8.080454\n",
      "predicted=8.080709, actual=8.086595\n",
      "predicted=8.086382, actual=8.096589\n",
      "predicted=8.095804, actual=8.097670\n",
      "predicted=8.097755, actual=8.096254\n",
      "predicted=8.096122, actual=8.093859\n",
      "predicted=8.093994, actual=8.087963\n",
      "predicted=8.088401, actual=8.088915\n",
      "predicted=8.089106, actual=8.073621\n",
      "predicted=8.073819, actual=8.070859\n",
      "predicted=8.071134, actual=8.078021\n",
      "predicted=8.078062, actual=8.101284\n",
      "predicted=8.101165, actual=8.100783\n",
      "predicted=8.099756, actual=8.102692\n",
      "predicted=8.102129, actual=8.099706\n",
      "predicted=8.099712, actual=8.110397\n",
      "predicted=8.111083, actual=8.107826\n",
      "predicted=8.107665, actual=8.106575\n",
      "predicted=8.106541, actual=8.098491\n",
      "predicted=8.098436, actual=8.108924\n",
      "predicted=8.109371, actual=8.103373\n",
      "predicted=8.103297, actual=8.098308\n",
      "predicted=8.098313, actual=8.080949\n",
      "predicted=8.080944, actual=8.094043\n",
      "predicted=8.094720, actual=8.082232\n",
      "predicted=8.082273, actual=8.073808\n",
      "predicted=8.073870, actual=8.085456\n",
      "predicted=8.085035, actual=8.084470\n",
      "predicted=8.084928, actual=8.086733\n",
      "predicted=8.086229, actual=8.075987\n",
      "predicted=8.075690, actual=8.063031\n",
      "predicted=8.063701, actual=8.074151\n",
      "predicted=8.074423, actual=8.079525\n",
      "predicted=8.079657, actual=8.088930\n",
      "predicted=8.088316, actual=8.082866\n",
      "predicted=8.082129, actual=8.076002\n",
      "predicted=8.076330, actual=8.067666\n",
      "predicted=8.068070, actual=8.070078\n",
      "predicted=8.070696, actual=8.075723\n",
      "predicted=8.075638, actual=8.102359\n",
      "predicted=8.101820, actual=8.093248\n",
      "predicted=8.092434, actual=8.104356\n",
      "predicted=8.103966, actual=8.107705\n",
      "predicted=8.107561, actual=8.108593\n"
     ]
    },
    {
     "name": "stderr",
     "output_type": "stream",
     "text": [
      "c:\\Users\\ronak\\AppData\\Local\\Programs\\Python\\Python311\\Lib\\site-packages\\statsmodels\\base\\model.py:604: ConvergenceWarning: Maximum Likelihood optimization failed to converge. Check mle_retvals\n",
      "  warnings.warn(\"Maximum Likelihood optimization failed to \"\n"
     ]
    },
    {
     "name": "stdout",
     "output_type": "stream",
     "text": [
      "predicted=8.109269, actual=8.110502\n",
      "predicted=8.110010, actual=8.093141\n",
      "predicted=8.093586, actual=8.093279\n",
      "predicted=8.093668, actual=8.089452\n"
     ]
    },
    {
     "name": "stderr",
     "output_type": "stream",
     "text": [
      "c:\\Users\\ronak\\AppData\\Local\\Programs\\Python\\Python311\\Lib\\site-packages\\statsmodels\\base\\model.py:604: ConvergenceWarning: Maximum Likelihood optimization failed to converge. Check mle_retvals\n",
      "  warnings.warn(\"Maximum Likelihood optimization failed to \"\n"
     ]
    },
    {
     "name": "stdout",
     "output_type": "stream",
     "text": [
      "predicted=8.089807, actual=8.113891\n",
      "predicted=8.113948, actual=8.164695\n",
      "predicted=8.163317, actual=8.158144\n",
      "predicted=8.156833, actual=8.159618\n",
      "predicted=8.158419, actual=8.151924\n",
      "predicted=8.152341, actual=8.149977\n",
      "predicted=8.151842, actual=8.122163\n"
     ]
    },
    {
     "name": "stderr",
     "output_type": "stream",
     "text": [
      "c:\\Users\\ronak\\AppData\\Local\\Programs\\Python\\Python311\\Lib\\site-packages\\statsmodels\\base\\model.py:604: ConvergenceWarning: Maximum Likelihood optimization failed to converge. Check mle_retvals\n",
      "  warnings.warn(\"Maximum Likelihood optimization failed to \"\n"
     ]
    },
    {
     "name": "stdout",
     "output_type": "stream",
     "text": [
      "predicted=8.122363, actual=8.129985\n",
      "predicted=8.130596, actual=8.131281\n",
      "predicted=8.131430, actual=8.128084\n",
      "predicted=8.128177, actual=8.130619\n",
      "predicted=8.129689, actual=8.118326\n",
      "predicted=8.118678, actual=8.137820\n",
      "predicted=8.137897, actual=8.146724\n",
      "predicted=8.146383, actual=8.143416\n",
      "predicted=8.143128, actual=8.131516\n",
      "predicted=8.130922, actual=8.144258\n"
     ]
    },
    {
     "name": "stderr",
     "output_type": "stream",
     "text": [
      "c:\\Users\\ronak\\AppData\\Local\\Programs\\Python\\Python311\\Lib\\site-packages\\statsmodels\\base\\model.py:604: ConvergenceWarning: Maximum Likelihood optimization failed to converge. Check mle_retvals\n",
      "  warnings.warn(\"Maximum Likelihood optimization failed to \"\n"
     ]
    },
    {
     "name": "stdout",
     "output_type": "stream",
     "text": [
      "predicted=8.144945, actual=8.155951\n",
      "predicted=8.156142, actual=8.152083\n",
      "predicted=8.151673, actual=8.149746\n",
      "predicted=8.149117, actual=8.143837\n",
      "predicted=8.144289, actual=8.145782\n",
      "predicted=8.146329, actual=8.146086\n",
      "predicted=8.146060, actual=8.148561\n",
      "predicted=8.148484, actual=8.141991\n",
      "predicted=8.141791, actual=8.121807\n",
      "predicted=8.122123, actual=8.132016\n",
      "predicted=8.132419, actual=8.126267\n",
      "predicted=8.126651, actual=8.131016\n",
      "predicted=8.130888, actual=8.127921\n",
      "predicted=8.127224, actual=8.126016\n",
      "predicted=8.126385, actual=8.124314\n",
      "predicted=8.124193, actual=8.124491\n",
      "predicted=8.124740, actual=8.128865\n",
      "predicted=8.128776, actual=8.118743\n",
      "predicted=8.118707, actual=8.125394\n",
      "predicted=8.125385, actual=8.136957\n",
      "predicted=8.136876, actual=8.140126\n"
     ]
    },
    {
     "name": "stderr",
     "output_type": "stream",
     "text": [
      "c:\\Users\\ronak\\AppData\\Local\\Programs\\Python\\Python311\\Lib\\site-packages\\statsmodels\\base\\model.py:604: ConvergenceWarning: Maximum Likelihood optimization failed to converge. Check mle_retvals\n",
      "  warnings.warn(\"Maximum Likelihood optimization failed to \"\n"
     ]
    },
    {
     "name": "stdout",
     "output_type": "stream",
     "text": [
      "predicted=8.139993, actual=8.140286\n",
      "predicted=8.139616, actual=8.147650\n",
      "predicted=8.147613, actual=8.143779\n",
      "predicted=8.144004, actual=8.154974\n",
      "predicted=8.154904, actual=8.183342\n",
      "predicted=8.182879, actual=8.179718\n",
      "predicted=8.179275, actual=8.177530\n",
      "predicted=8.176854, actual=8.188217\n",
      "predicted=8.188300, actual=8.190396\n",
      "predicted=8.191150, actual=8.190368\n",
      "predicted=8.190038, actual=8.184597\n",
      "predicted=8.184434, actual=8.189702\n",
      "predicted=8.190087, actual=8.182322\n",
      "predicted=8.182465, actual=8.184709\n",
      "predicted=8.184792, actual=8.185712\n",
      "predicted=8.185559, actual=8.170964\n",
      "predicted=8.171271, actual=8.168656\n",
      "predicted=8.168684, actual=8.164468\n",
      "predicted=8.164884, actual=8.171246\n",
      "predicted=8.171487, actual=8.185726\n",
      "predicted=8.185097, actual=8.194616\n",
      "predicted=8.194105, actual=8.199286\n",
      "predicted=8.198607, actual=8.196685\n",
      "predicted=8.196521, actual=8.191435\n",
      "predicted=8.191811, actual=8.172602\n",
      "predicted=8.173142, actual=8.180559\n",
      "predicted=8.181121, actual=8.167366\n",
      "predicted=8.167656, actual=8.162531\n",
      "predicted=8.162708, actual=8.156869\n",
      "predicted=8.156579, actual=8.147766\n",
      "predicted=8.148428, actual=8.158960\n",
      "predicted=8.158769, actual=8.134512\n",
      "predicted=8.134597, actual=8.128615\n",
      "predicted=8.128833, actual=8.112753\n",
      "predicted=8.113040, actual=8.116999\n",
      "predicted=8.117967, actual=8.125202\n",
      "predicted=8.124616, actual=8.122297\n",
      "predicted=8.122068, actual=8.110923\n",
      "predicted=8.110368, actual=8.119726\n",
      "predicted=8.119964, actual=8.116984\n"
     ]
    },
    {
     "name": "stderr",
     "output_type": "stream",
     "text": [
      "c:\\Users\\ronak\\AppData\\Local\\Programs\\Python\\Python311\\Lib\\site-packages\\statsmodels\\base\\model.py:604: ConvergenceWarning: Maximum Likelihood optimization failed to converge. Check mle_retvals\n",
      "  warnings.warn(\"Maximum Likelihood optimization failed to \"\n"
     ]
    },
    {
     "name": "stdout",
     "output_type": "stream",
     "text": [
      "predicted=8.117350, actual=8.125705\n",
      "predicted=8.125535, actual=8.122802\n",
      "predicted=8.122262, actual=8.126089\n",
      "predicted=8.126263, actual=8.115954\n",
      "predicted=8.115865, actual=8.111763\n",
      "predicted=8.112235, actual=8.111193\n",
      "predicted=8.111337, actual=8.132795\n",
      "predicted=8.132894, actual=8.159904\n",
      "predicted=8.159006, actual=8.161218\n",
      "predicted=8.160171, actual=8.166103\n",
      "predicted=8.165285, actual=8.163428\n",
      "predicted=8.163750, actual=8.169096\n",
      "predicted=8.169866, actual=8.162873\n",
      "predicted=8.162866, actual=8.148185\n",
      "predicted=8.148498, actual=8.151953\n",
      "predicted=8.152162, actual=8.164439\n",
      "predicted=8.164789, actual=8.156969\n",
      "predicted=8.156682, actual=8.163841\n",
      "predicted=8.163178, actual=8.164069\n",
      "predicted=8.164073, actual=8.169506\n",
      "predicted=8.169801, actual=8.189827\n",
      "predicted=8.189242, actual=8.192819\n",
      "predicted=8.192540, actual=8.196078\n",
      "predicted=8.195569, actual=8.200535\n",
      "predicted=8.200349, actual=8.208519\n",
      "predicted=8.208938, actual=8.186896\n",
      "predicted=8.186911, actual=8.207197\n",
      "predicted=8.207318, actual=8.258681\n"
     ]
    },
    {
     "name": "stderr",
     "output_type": "stream",
     "text": [
      "c:\\Users\\ronak\\AppData\\Local\\Programs\\Python\\Python311\\Lib\\site-packages\\statsmodels\\base\\model.py:604: ConvergenceWarning: Maximum Likelihood optimization failed to converge. Check mle_retvals\n",
      "  warnings.warn(\"Maximum Likelihood optimization failed to \"\n"
     ]
    },
    {
     "name": "stdout",
     "output_type": "stream",
     "text": [
      "predicted=8.258345, actual=8.258215\n",
      "predicted=8.257326, actual=8.247010\n",
      "predicted=8.245281, actual=8.237493\n"
     ]
    },
    {
     "name": "stderr",
     "output_type": "stream",
     "text": [
      "c:\\Users\\ronak\\AppData\\Local\\Programs\\Python\\Python311\\Lib\\site-packages\\statsmodels\\base\\model.py:604: ConvergenceWarning: Maximum Likelihood optimization failed to converge. Check mle_retvals\n",
      "  warnings.warn(\"Maximum Likelihood optimization failed to \"\n"
     ]
    },
    {
     "name": "stdout",
     "output_type": "stream",
     "text": [
      "predicted=8.237944, actual=8.239461\n",
      "predicted=8.241504, actual=8.249052\n",
      "predicted=8.249212, actual=8.241585\n",
      "predicted=8.241139, actual=8.245699\n",
      "predicted=8.245309, actual=8.242730\n",
      "predicted=8.242782, actual=8.241018\n",
      "predicted=8.241398, actual=8.245673\n",
      "predicted=8.245444, actual=8.238325\n",
      "predicted=8.238485, actual=8.213856\n",
      "predicted=8.214023, actual=8.207075\n",
      "predicted=8.207653, actual=8.226279\n",
      "predicted=8.226957, actual=8.210206\n",
      "predicted=8.210057, actual=8.213355\n",
      "predicted=8.212577, actual=8.219609\n",
      "predicted=8.219385, actual=8.225650\n",
      "predicted=8.226186, actual=8.264312\n",
      "predicted=8.263219, actual=8.269706\n",
      "predicted=8.268816, actual=8.258759\n",
      "predicted=8.258168, actual=8.264775\n"
     ]
    },
    {
     "name": "stderr",
     "output_type": "stream",
     "text": [
      "c:\\Users\\ronak\\AppData\\Local\\Programs\\Python\\Python311\\Lib\\site-packages\\statsmodels\\base\\model.py:604: ConvergenceWarning: Maximum Likelihood optimization failed to converge. Check mle_retvals\n",
      "  warnings.warn(\"Maximum Likelihood optimization failed to \"\n"
     ]
    },
    {
     "name": "stdout",
     "output_type": "stream",
     "text": [
      "predicted=8.264666, actual=8.269398\n",
      "predicted=8.270655, actual=8.279710\n",
      "predicted=8.279718, actual=8.257969\n",
      "predicted=8.257417, actual=8.253696\n",
      "predicted=8.254148, actual=8.245463\n",
      "predicted=8.246064, actual=8.243019\n"
     ]
    },
    {
     "name": "stderr",
     "output_type": "stream",
     "text": [
      "c:\\Users\\ronak\\AppData\\Local\\Programs\\Python\\Python311\\Lib\\site-packages\\statsmodels\\base\\model.py:604: ConvergenceWarning: Maximum Likelihood optimization failed to converge. Check mle_retvals\n",
      "  warnings.warn(\"Maximum Likelihood optimization failed to \"\n"
     ]
    },
    {
     "name": "stdout",
     "output_type": "stream",
     "text": [
      "predicted=8.243838, actual=8.242901\n",
      "predicted=8.242423, actual=8.246945\n",
      "predicted=8.246900, actual=8.256906\n",
      "predicted=8.256503, actual=8.285589\n",
      "predicted=8.285029, actual=8.287352\n",
      "predicted=8.286530, actual=8.327484\n",
      "predicted=8.326700, actual=8.314685\n",
      "predicted=8.314029, actual=8.327025\n",
      "predicted=8.327363, actual=8.326928\n",
      "predicted=8.326616, actual=8.323778\n",
      "predicted=8.325019, actual=8.330743\n",
      "predicted=8.330208, actual=8.318767\n",
      "predicted=8.319200, actual=8.319522\n",
      "predicted=8.319639, actual=8.325621\n",
      "predicted=8.325602, actual=8.319669\n",
      "predicted=8.319938, actual=8.301683\n",
      "predicted=8.301419, actual=8.291922\n",
      "predicted=8.292403, actual=8.315591\n",
      "predicted=8.316179, actual=8.306991\n",
      "predicted=8.306757, actual=8.294312\n",
      "predicted=8.293646, actual=8.319815\n",
      "predicted=8.319457, actual=8.323354\n",
      "predicted=8.323897, actual=8.317546\n",
      "predicted=8.316926, actual=8.317363\n",
      "predicted=8.316771, actual=8.314024\n",
      "predicted=8.314951, actual=8.297070\n",
      "predicted=8.297445, actual=8.309997\n",
      "predicted=8.310097, actual=8.320838\n",
      "predicted=8.320804, actual=8.324179\n",
      "predicted=8.323768, actual=8.340993\n",
      "predicted=8.339939, actual=8.330623\n",
      "predicted=8.330626, actual=8.344648\n",
      "predicted=8.344766, actual=8.347413\n",
      "predicted=8.347233, actual=8.331466\n",
      "predicted=8.331960, actual=8.288358\n",
      "predicted=8.288499, actual=8.286748\n",
      "predicted=8.288312, actual=8.287264\n"
     ]
    },
    {
     "name": "stderr",
     "output_type": "stream",
     "text": [
      "c:\\Users\\ronak\\AppData\\Local\\Programs\\Python\\Python311\\Lib\\site-packages\\statsmodels\\base\\model.py:604: ConvergenceWarning: Maximum Likelihood optimization failed to converge. Check mle_retvals\n",
      "  warnings.warn(\"Maximum Likelihood optimization failed to \"\n"
     ]
    },
    {
     "name": "stdout",
     "output_type": "stream",
     "text": [
      "predicted=8.288280, actual=8.271523\n",
      "predicted=8.271558, actual=8.262946\n"
     ]
    },
    {
     "name": "stderr",
     "output_type": "stream",
     "text": [
      "c:\\Users\\ronak\\AppData\\Local\\Programs\\Python\\Python311\\Lib\\site-packages\\statsmodels\\base\\model.py:604: ConvergenceWarning: Maximum Likelihood optimization failed to converge. Check mle_retvals\n",
      "  warnings.warn(\"Maximum Likelihood optimization failed to \"\n"
     ]
    },
    {
     "name": "stdout",
     "output_type": "stream",
     "text": [
      "predicted=8.261965, actual=8.253462\n",
      "predicted=8.253903, actual=8.262636\n",
      "predicted=8.263054, actual=8.273018\n",
      "predicted=8.272492, actual=8.264569\n",
      "predicted=8.264081, actual=8.280787\n",
      "predicted=8.280273, actual=8.294874\n"
     ]
    },
    {
     "name": "stderr",
     "output_type": "stream",
     "text": [
      "c:\\Users\\ronak\\AppData\\Local\\Programs\\Python\\Python311\\Lib\\site-packages\\statsmodels\\base\\model.py:604: ConvergenceWarning: Maximum Likelihood optimization failed to converge. Check mle_retvals\n",
      "  warnings.warn(\"Maximum Likelihood optimization failed to \"\n"
     ]
    },
    {
     "name": "stdout",
     "output_type": "stream",
     "text": [
      "predicted=8.294786, actual=8.288849\n",
      "predicted=8.288754, actual=8.287163\n",
      "predicted=8.286653, actual=8.280597\n",
      "predicted=8.281165, actual=8.290205\n",
      "predicted=8.290797, actual=8.294400\n",
      "predicted=8.294106, actual=8.279241\n",
      "predicted=8.279117, actual=8.261733\n",
      "predicted=8.261800, actual=8.258940\n",
      "predicted=8.259837, actual=8.249627\n",
      "predicted=8.250305, actual=8.259613\n",
      "predicted=8.259447, actual=8.262224\n",
      "predicted=8.261622, actual=8.250894\n",
      "predicted=8.250753, actual=8.256400\n",
      "predicted=8.256154, actual=8.248359\n",
      "predicted=8.248792, actual=8.261061\n",
      "predicted=8.261227, actual=8.248176\n",
      "predicted=8.247737, actual=8.259277\n",
      "predicted=8.259482, actual=8.254113\n",
      "predicted=8.253779, actual=8.274115\n"
     ]
    },
    {
     "name": "stderr",
     "output_type": "stream",
     "text": [
      "c:\\Users\\ronak\\AppData\\Local\\Programs\\Python\\Python311\\Lib\\site-packages\\statsmodels\\base\\model.py:604: ConvergenceWarning: Maximum Likelihood optimization failed to converge. Check mle_retvals\n",
      "  warnings.warn(\"Maximum Likelihood optimization failed to \"\n"
     ]
    },
    {
     "name": "stdout",
     "output_type": "stream",
     "text": [
      "predicted=8.274385, actual=8.288773\n",
      "predicted=8.287845, actual=8.288270\n",
      "predicted=8.288054, actual=8.284050\n",
      "predicted=8.283499, actual=8.267166\n",
      "predicted=8.267897, actual=8.280914\n",
      "predicted=8.281693, actual=8.269039\n",
      "predicted=8.269181, actual=8.263693\n",
      "predicted=8.263745, actual=8.268975\n",
      "predicted=8.268569, actual=8.251690\n",
      "predicted=8.252377, actual=8.248058\n",
      "predicted=8.247996, actual=8.251142\n",
      "predicted=8.251255, actual=8.267051\n",
      "predicted=8.267257, actual=8.255699\n",
      "predicted=8.254898, actual=8.255062\n",
      "predicted=8.254873, actual=8.253202\n"
     ]
    },
    {
     "name": "stderr",
     "output_type": "stream",
     "text": [
      "c:\\Users\\ronak\\AppData\\Local\\Programs\\Python\\Python311\\Lib\\site-packages\\statsmodels\\base\\model.py:604: ConvergenceWarning: Maximum Likelihood optimization failed to converge. Check mle_retvals\n",
      "  warnings.warn(\"Maximum Likelihood optimization failed to \"\n"
     ]
    },
    {
     "name": "stdout",
     "output_type": "stream",
     "text": [
      "predicted=8.253380, actual=8.243716\n",
      "predicted=8.244460, actual=8.225798\n",
      "predicted=8.225798, actual=8.208206\n"
     ]
    },
    {
     "name": "stderr",
     "output_type": "stream",
     "text": [
      "c:\\Users\\ronak\\AppData\\Local\\Programs\\Python\\Python311\\Lib\\site-packages\\statsmodels\\base\\model.py:604: ConvergenceWarning: Maximum Likelihood optimization failed to converge. Check mle_retvals\n",
      "  warnings.warn(\"Maximum Likelihood optimization failed to \"\n"
     ]
    },
    {
     "name": "stdout",
     "output_type": "stream",
     "text": [
      "predicted=8.208841, actual=8.216858\n",
      "predicted=8.217463, actual=8.220134\n"
     ]
    },
    {
     "name": "stderr",
     "output_type": "stream",
     "text": [
      "c:\\Users\\ronak\\AppData\\Local\\Programs\\Python\\Python311\\Lib\\site-packages\\statsmodels\\base\\model.py:604: ConvergenceWarning: Maximum Likelihood optimization failed to converge. Check mle_retvals\n",
      "  warnings.warn(\"Maximum Likelihood optimization failed to \"\n"
     ]
    },
    {
     "name": "stdout",
     "output_type": "stream",
     "text": [
      "predicted=8.220093, actual=8.228564\n"
     ]
    },
    {
     "name": "stderr",
     "output_type": "stream",
     "text": [
      "c:\\Users\\ronak\\AppData\\Local\\Programs\\Python\\Python311\\Lib\\site-packages\\statsmodels\\base\\model.py:604: ConvergenceWarning: Maximum Likelihood optimization failed to converge. Check mle_retvals\n",
      "  warnings.warn(\"Maximum Likelihood optimization failed to \"\n"
     ]
    },
    {
     "name": "stdout",
     "output_type": "stream",
     "text": [
      "predicted=8.227870, actual=8.250724\n",
      "predicted=8.249699, actual=8.267179\n",
      "predicted=8.266736, actual=8.258086\n",
      "predicted=8.257477, actual=8.256374\n",
      "predicted=8.256337, actual=8.251051\n",
      "predicted=8.251813, actual=8.263113\n",
      "predicted=8.263763, actual=8.251155\n",
      "predicted=8.250833, actual=8.246722\n",
      "predicted=8.246775, actual=8.243204\n",
      "predicted=8.243244, actual=8.239395\n",
      "predicted=8.240056, actual=8.245581\n",
      "predicted=8.245336, actual=8.247168\n",
      "predicted=8.246995, actual=8.252824\n",
      "predicted=8.252570, actual=8.257347\n",
      "predicted=8.257000, actual=8.277450\n",
      "predicted=8.277301, actual=8.269795\n",
      "predicted=8.269384, actual=8.288585\n",
      "predicted=8.288379, actual=8.298390\n",
      "predicted=8.298053, actual=8.285324\n",
      "predicted=8.285617, actual=8.299273\n",
      "predicted=8.298834, actual=8.296995\n",
      "predicted=8.297465, actual=8.292348\n",
      "predicted=8.292631, actual=8.290418\n",
      "predicted=8.290015, actual=8.271075\n",
      "predicted=8.271800, actual=8.274790\n",
      "predicted=8.275134, actual=8.339011\n",
      "predicted=8.338654, actual=8.335479\n",
      "predicted=8.334272, actual=8.337696\n",
      "predicted=8.336038, actual=8.369980\n",
      "predicted=8.369207, actual=8.366928\n",
      "predicted=8.368287, actual=8.363424\n",
      "predicted=8.362927, actual=8.366917\n",
      "predicted=8.366741, actual=8.367823\n",
      "predicted=8.368810, actual=8.371589\n",
      "predicted=8.371436, actual=8.386595\n",
      "predicted=8.386249, actual=8.385055\n",
      "predicted=8.384805, actual=8.381454\n",
      "predicted=8.381292, actual=8.386025\n",
      "predicted=8.386046, actual=8.388701\n",
      "predicted=8.389111, actual=8.362421\n",
      "predicted=8.362493, actual=8.332080\n",
      "predicted=8.332637, actual=8.335959\n",
      "predicted=8.337041, actual=8.342947\n",
      "predicted=8.343589, actual=8.336283\n",
      "predicted=8.335632, actual=8.349662\n",
      "predicted=8.348669, actual=8.341804\n",
      "predicted=8.341715, actual=8.342113\n"
     ]
    },
    {
     "name": "stderr",
     "output_type": "stream",
     "text": [
      "c:\\Users\\ronak\\AppData\\Local\\Programs\\Python\\Python311\\Lib\\site-packages\\statsmodels\\base\\model.py:604: ConvergenceWarning: Maximum Likelihood optimization failed to converge. Check mle_retvals\n",
      "  warnings.warn(\"Maximum Likelihood optimization failed to \"\n"
     ]
    },
    {
     "name": "stdout",
     "output_type": "stream",
     "text": [
      "predicted=8.342369, actual=8.365265\n",
      "predicted=8.364859, actual=8.393001\n",
      "predicted=8.392812, actual=8.409608\n"
     ]
    },
    {
     "name": "stderr",
     "output_type": "stream",
     "text": [
      "c:\\Users\\ronak\\AppData\\Local\\Programs\\Python\\Python311\\Lib\\site-packages\\statsmodels\\base\\model.py:604: ConvergenceWarning: Maximum Likelihood optimization failed to converge. Check mle_retvals\n",
      "  warnings.warn(\"Maximum Likelihood optimization failed to \"\n"
     ]
    },
    {
     "name": "stdout",
     "output_type": "stream",
     "text": [
      "predicted=8.408381, actual=8.416997\n",
      "predicted=8.416017, actual=8.423212\n",
      "predicted=8.423230, actual=8.412277\n",
      "predicted=8.412771, actual=8.403778\n",
      "predicted=8.404379, actual=8.412377\n",
      "predicted=8.412805, actual=8.411199\n",
      "predicted=8.411443, actual=8.413176\n",
      "predicted=8.412837, actual=8.414451\n",
      "predicted=8.414076, actual=8.423706\n",
      "predicted=8.423869, actual=8.416500\n",
      "predicted=8.416279, actual=8.414573\n"
     ]
    },
    {
     "name": "stderr",
     "output_type": "stream",
     "text": [
      "c:\\Users\\ronak\\AppData\\Local\\Programs\\Python\\Python311\\Lib\\site-packages\\statsmodels\\base\\model.py:604: ConvergenceWarning: Maximum Likelihood optimization failed to converge. Check mle_retvals\n",
      "  warnings.warn(\"Maximum Likelihood optimization failed to \"\n"
     ]
    },
    {
     "name": "stdout",
     "output_type": "stream",
     "text": [
      "predicted=8.414653, actual=8.407211\n",
      "predicted=8.407331, actual=8.406474\n",
      "predicted=8.407003, actual=8.402175\n",
      "predicted=8.402121, actual=8.400558\n",
      "predicted=8.400684, actual=8.413576\n",
      "predicted=8.413383, actual=8.407233\n",
      "predicted=8.407049, actual=8.415758\n",
      "predicted=8.415551, actual=8.416842\n",
      "predicted=8.416564, actual=8.414773\n",
      "predicted=8.415099, actual=8.413087\n",
      "predicted=8.412848, actual=8.377046\n",
      "Test RMSE: 0.014\n"
     ]
    },
    {
     "data": {
      "image/png": "[encoded data removed]",
      "text/plain": [
       "<Figure size 1200x600 with 1 Axes>"
      ]
     },
     "metadata": {},
     "output_type": "display_data"
    }
   ],
   "source": [
    "from statsmodels.tsa.arima.model import ARIMA\n",
    "from sklearn.metrics import mean_squared_error\n",
    "import numpy as np\n",
    "import matplotlib.pyplot as plt\n",
    "\n",
    "# Example data setup (ensure y is defined and contains your data)\n",
    "x = y.values\n",
    "train_size = int(len(x) * 0.7)\n",
    "train, test = x[0:train_size], x[train_size:]\n",
    "\n",
    "history = list(train)  # Use list() to ensure history is a list\n",
    "predictions = []\n",
    "\n",
    "# Use exactly 20 test samples\n",
    "num_predictions = len(test)\n",
    "cnt = 0\n",
    "\n",
    "for t in range(len(test)):\n",
    "    if cnt == num_predictions:\n",
    "        break\n",
    "    model = ARIMA(history, order=(5,1,0))\n",
    "    model_fit = model.fit()  # No disp argument\n",
    "    output = model_fit.forecast(steps=1)\n",
    "    yhat = output[0]\n",
    "    predictions.append(yhat)\n",
    "    obs = test[t]\n",
    "    history.append(obs)\n",
    "    print(f'predicted={yhat:.6f}, actual={obs:.6f}')\n",
    "    cnt += 1\n",
    "\n",
    "# Ensure predictions and test have the same length\n",
    "if len(predictions) != num_predictions:\n",
    "    raise ValueError(f\"Predictions length ({len(predictions)}) does not match expected number ({num_predictions})\")\n",
    "\n",
    "# Slice the test set to match the length of predictions\n",
    "test_slice = test[:num_predictions]\n",
    "\n",
    "# Calculate error\n",
    "error = mean_squared_error(test_slice, predictions)\n",
    "print(f'Test RMSE: {np.sqrt(error):.3f}')\n",
    "\n",
    "# Plot results\n",
    "plt.figure(figsize=(12, 6))\n",
    "plt.plot(test_slice, label='Actual', color='blue')\n",
    "plt.plot(predictions, color='red', label='Predicted')\n",
    "plt.xlabel('Time')\n",
    "plt.ylabel('Stock Price')\n",
    "plt.title('Actual vs Predicted Stock Prices')\n",
    "plt.legend()\n",
    "plt.show()\n"
   ]
  },
  {
   "cell_type": "code",
   "execution_count": 60,
   "metadata": {},
   "outputs": [],
   "source": [
    "from sklearn.metrics import mean_absolute_error, mean_squared_error, r2_score"
   ]
  },
  {
   "cell_type": "code",
   "execution_count": 61,
   "metadata": {},
   "outputs": [
    {
     "name": "stdout",
     "output_type": "stream",
     "text": [
      "Mean Absolute Error (MAE): 0.010\n",
      "Mean Squared Error (MSE): 0.000\n",
      "Root Mean Squared Error (RMSE): 0.014\n",
      "Mean Absolute Percentage Error (MAPE): 0.13%\n",
      "R-squared (R²): 0.994\n"
     ]
    }
   ],
   "source": [
    "# Calculate metrics\n",
    "mae = mean_absolute_error(test_slice, predictions)\n",
    "mse = mean_squared_error(test_slice, predictions)\n",
    "rmse = np.sqrt(mse)\n",
    "mape = np.mean(np.abs((test_slice - predictions) / test_slice)) * 100\n",
    "r2 = r2_score(test_slice, predictions)\n",
    "\n",
    "print(f'Mean Absolute Error (MAE): {mae:.3f}')\n",
    "print(f'Mean Squared Error (MSE): {mse:.3f}')\n",
    "print(f'Root Mean Squared Error (RMSE): {rmse:.3f}')\n",
    "print(f'Mean Absolute Percentage Error (MAPE): {mape:.2f}%')\n",
    "print(f'R-squared (R²): {r2:.3f}')"
   ]
  },
  {
   "cell_type": "code",
   "execution_count": 97,
   "metadata": {},
   "outputs": [],
   "source": [
    "# from statsmodels.tsa.arima.model import ARIMA\n",
    "# from sklearn.metrics import mean_squared_error\n",
    "# import numpy as np\n",
    "# import matplotlib.pyplot as plt\n",
    "\n",
    "# x = y.values\n",
    "# train_size = int(len(x) * 0.7)\n",
    "# train, test = x[0:train_size], x[train_size:]\n",
    "# history = [x for x in train]\n",
    "# predictions = []\n",
    "\n",
    "# for t in range(len(test)):\n",
    "#     model = ARIMA(history, order=(5,1,0))\n",
    "#     model_fit = model.fit()  # No disp argument\n",
    "#     output = model_fit.forecast(steps=1)\n",
    "#     yhat = output[0]\n",
    "#     predictions.append(yhat)\n",
    "#     obs = test[t]\n",
    "#     history.append(obs)\n",
    "#     print('predicted=%f, actual=%f' % (yhat, obs))\n",
    "\n",
    "# error = mean_squared_error(test, predictions)\n",
    "# print('Test RMSE: %.3f' % np.sqrt(error))\n",
    "\n",
    "# plt.plot(test, label='Actual')\n",
    "# plt.plot(predictions, color='red', label='Predicted')\n",
    "# plt.legend()\n",
    "# plt.show()\n"
   ]
  },
  {
   "cell_type": "markdown",
   "metadata": {},
   "source": [
    "# 5. Making the predictions "
   ]
  },
  {
   "cell_type": "code",
   "execution_count": 35,
   "metadata": {},
   "outputs": [
    {
     "name": "stdout",
     "output_type": "stream",
     "text": [
      "The predicted stock price for 2024-09-20 is: 4348.38\n"
     ]
    }
   ],
   "source": [
    "from statsmodels.tsa.arima.model import ARIMA\n",
    "import numpy as np\n",
    "import pandas as pd\n",
    "from datetime import datetime, timedelta\n",
    "\n",
    "# Assume y is your log-transformed time series data and already loaded\n",
    "x_log = y.values\n",
    "\n",
    "# Fit the ARIMA model on the log-transformed data\n",
    "model = ARIMA(x_log, order=(5,1,0))  # p, d, q\n",
    "model_fit = model.fit()\n",
    "\n",
    "# Forecast the next value in the log-transformed scale\n",
    "forecast_log = model_fit.forecast(steps=1) # next day\n",
    "forecast_log_value = forecast_log[0]\n",
    "\n",
    "# Reverse the logarithmic transformation to get the actual price\n",
    "forecast_value = np.exp(forecast_log_value)\n",
    "\n",
    "# Get tomorrow's date\n",
    "today = datetime.now()\n",
    "tomorrow = today + timedelta(days=1)\n",
    "tomorrow_date_str = tomorrow.strftime('%Y-%m-%d')  # Format date as YYYY-MM-DD\n",
    "\n",
    "print(f'The predicted stock price for {tomorrow_date_str} is: {forecast_value:.2f}')\n"
   ]
  },
  {
   "cell_type": "code",
   "execution_count": 36,
   "metadata": {},
   "outputs": [
    {
     "name": "stdout",
     "output_type": "stream",
     "text": [
      "                        Date  Forecasted Price\n",
      "0 2024-09-20 11:39:09.380203       4348.375978\n",
      "1 2024-09-21 11:39:09.380203       4351.879816\n",
      "2 2024-09-22 11:39:09.380203       4353.751390\n",
      "3 2024-09-23 11:39:09.380203       4355.125962\n",
      "4 2024-09-24 11:39:09.380203       4350.337551\n",
      "5 2024-09-25 11:39:09.380203       4350.340210\n",
      "6 2024-09-26 11:39:09.380203       4350.502635\n",
      "7 2024-09-27 11:39:09.380203       4350.607259\n",
      "8 2024-09-28 11:39:09.380203       4350.696217\n",
      "9 2024-09-29 11:39:09.380203       4350.548856\n"
     ]
    },
    {
     "data": {
      "image/png": "[encoded data removed]",
      "text/plain": [
       "<Figure size 1200x600 with 1 Axes>"
      ]
     },
     "metadata": {},
     "output_type": "display_data"
    }
   ],
   "source": [
    "from statsmodels.tsa.arima.model import ARIMA\n",
    "import numpy as np\n",
    "import pandas as pd\n",
    "import matplotlib.pyplot as plt\n",
    "\n",
    "# Assume y is your log-transformed time series data and already loaded\n",
    "x_log = y.values\n",
    "\n",
    "# Fit the ARIMA model on the log-transformed data\n",
    "model = ARIMA(x_log, order=(5,1,0))  # p, d, q\n",
    "model_fit = model.fit()\n",
    "\n",
    "# Forecast the next 10 days in the log-transformed scale\n",
    "forecast_log = model_fit.forecast(steps=10)\n",
    "forecast_log_values = forecast_log\n",
    "\n",
    "# Reverse the logarithmic transformation to get the actual prices\n",
    "forecast_values = np.exp(forecast_log_values)\n",
    "\n",
    "# Generate dates for the next 10 days\n",
    "last_date = pd.to_datetime('today')  # Adjust if you have a specific end date\n",
    "dates = pd.date_range(start=last_date + pd.Timedelta(days=1), periods=10, freq='D')\n",
    "\n",
    "# Create a DataFrame to display results\n",
    "forecast_df = pd.DataFrame({\n",
    "    'Date': dates,\n",
    "    'Forecasted Price': forecast_values\n",
    "})\n",
    "\n",
    "print(forecast_df)\n",
    "\n",
    "# Optional: Plot the forecasted prices\n",
    "plt.figure(figsize=(12, 6))\n",
    "plt.plot(dates, forecast_values, marker='o', linestyle='-', color='red', label='Forecasted Prices')\n",
    "plt.xlabel('Date')\n",
    "plt.ylabel('Stock Price')\n",
    "plt.title('Forecasted Stock Prices for the Next 10 Days')\n",
    "plt.legend()\n",
    "plt.grid()\n",
    "plt.show()\n"
   ]
  },
  {
   "cell_type": "markdown",
   "metadata": {},
   "source": [
    "2. SARIMA"
   ]
  },
  {
   "cell_type": "code",
   "execution_count": 37,
   "metadata": {},
   "outputs": [
    {
     "name": "stderr",
     "output_type": "stream",
     "text": [
      "c:\\Users\\ronak\\AppData\\Local\\Programs\\Python\\Python311\\Lib\\site-packages\\statsmodels\\base\\model.py:604: ConvergenceWarning: Maximum Likelihood optimization failed to converge. Check mle_retvals\n",
      "  warnings.warn(\"Maximum Likelihood optimization failed to \"\n"
     ]
    },
    {
     "name": "stdout",
     "output_type": "stream",
     "text": [
      "predicted=7.532259, actual=7.552578\n"
     ]
    },
    {
     "name": "stderr",
     "output_type": "stream",
     "text": [
      "c:\\Users\\ronak\\AppData\\Local\\Programs\\Python\\Python311\\Lib\\site-packages\\statsmodels\\base\\model.py:604: ConvergenceWarning: Maximum Likelihood optimization failed to converge. Check mle_retvals\n",
      "  warnings.warn(\"Maximum Likelihood optimization failed to \"\n"
     ]
    },
    {
     "name": "stdout",
     "output_type": "stream",
     "text": [
      "predicted=7.555015, actual=7.608101\n"
     ]
    },
    {
     "name": "stderr",
     "output_type": "stream",
     "text": [
      "c:\\Users\\ronak\\AppData\\Local\\Programs\\Python\\Python311\\Lib\\site-packages\\statsmodels\\base\\model.py:604: ConvergenceWarning: Maximum Likelihood optimization failed to converge. Check mle_retvals\n",
      "  warnings.warn(\"Maximum Likelihood optimization failed to \"\n"
     ]
    },
    {
     "name": "stdout",
     "output_type": "stream",
     "text": [
      "predicted=7.607267, actual=7.565508\n"
     ]
    },
    {
     "name": "stderr",
     "output_type": "stream",
     "text": [
      "c:\\Users\\ronak\\AppData\\Local\\Programs\\Python\\Python311\\Lib\\site-packages\\statsmodels\\base\\model.py:604: ConvergenceWarning: Maximum Likelihood optimization failed to converge. Check mle_retvals\n",
      "  warnings.warn(\"Maximum Likelihood optimization failed to \"\n"
     ]
    },
    {
     "name": "stdout",
     "output_type": "stream",
     "text": [
      "predicted=7.566829, actual=7.566699\n"
     ]
    },
    {
     "name": "stderr",
     "output_type": "stream",
     "text": [
      "c:\\Users\\ronak\\AppData\\Local\\Programs\\Python\\Python311\\Lib\\site-packages\\statsmodels\\base\\model.py:604: ConvergenceWarning: Maximum Likelihood optimization failed to converge. Check mle_retvals\n",
      "  warnings.warn(\"Maximum Likelihood optimization failed to \"\n"
     ]
    },
    {
     "name": "stdout",
     "output_type": "stream",
     "text": [
      "predicted=7.567055, actual=7.551502\n"
     ]
    },
    {
     "name": "stderr",
     "output_type": "stream",
     "text": [
      "c:\\Users\\ronak\\AppData\\Local\\Programs\\Python\\Python311\\Lib\\site-packages\\statsmodels\\base\\model.py:604: ConvergenceWarning: Maximum Likelihood optimization failed to converge. Check mle_retvals\n",
      "  warnings.warn(\"Maximum Likelihood optimization failed to \"\n"
     ]
    },
    {
     "name": "stdout",
     "output_type": "stream",
     "text": [
      "predicted=7.552243, actual=7.545205\n"
     ]
    },
    {
     "name": "stderr",
     "output_type": "stream",
     "text": [
      "c:\\Users\\ronak\\AppData\\Local\\Programs\\Python\\Python311\\Lib\\site-packages\\statsmodels\\base\\model.py:604: ConvergenceWarning: Maximum Likelihood optimization failed to converge. Check mle_retvals\n",
      "  warnings.warn(\"Maximum Likelihood optimization failed to \"\n"
     ]
    },
    {
     "name": "stdout",
     "output_type": "stream",
     "text": [
      "predicted=7.546101, actual=7.546129\n"
     ]
    },
    {
     "name": "stderr",
     "output_type": "stream",
     "text": [
      "c:\\Users\\ronak\\AppData\\Local\\Programs\\Python\\Python311\\Lib\\site-packages\\statsmodels\\base\\model.py:604: ConvergenceWarning: Maximum Likelihood optimization failed to converge. Check mle_retvals\n",
      "  warnings.warn(\"Maximum Likelihood optimization failed to \"\n"
     ]
    },
    {
     "name": "stdout",
     "output_type": "stream",
     "text": [
      "predicted=7.547581, actual=7.568018\n",
      "predicted=7.567921, actual=7.575328\n"
     ]
    },
    {
     "name": "stderr",
     "output_type": "stream",
     "text": [
      "c:\\Users\\ronak\\AppData\\Local\\Programs\\Python\\Python311\\Lib\\site-packages\\statsmodels\\base\\model.py:604: ConvergenceWarning: Maximum Likelihood optimization failed to converge. Check mle_retvals\n",
      "  warnings.warn(\"Maximum Likelihood optimization failed to \"\n"
     ]
    },
    {
     "name": "stdout",
     "output_type": "stream",
     "text": [
      "predicted=7.573579, actual=7.575405\n"
     ]
    },
    {
     "name": "stderr",
     "output_type": "stream",
     "text": [
      "c:\\Users\\ronak\\AppData\\Local\\Programs\\Python\\Python311\\Lib\\site-packages\\statsmodels\\base\\model.py:604: ConvergenceWarning: Maximum Likelihood optimization failed to converge. Check mle_retvals\n",
      "  warnings.warn(\"Maximum Likelihood optimization failed to \"\n"
     ]
    },
    {
     "name": "stdout",
     "output_type": "stream",
     "text": [
      "predicted=7.574965, actual=7.550845\n"
     ]
    },
    {
     "name": "stderr",
     "output_type": "stream",
     "text": [
      "c:\\Users\\ronak\\AppData\\Local\\Programs\\Python\\Python311\\Lib\\site-packages\\statsmodels\\base\\model.py:604: ConvergenceWarning: Maximum Likelihood optimization failed to converge. Check mle_retvals\n",
      "  warnings.warn(\"Maximum Likelihood optimization failed to \"\n"
     ]
    },
    {
     "name": "stdout",
     "output_type": "stream",
     "text": [
      "predicted=7.551050, actual=7.545865\n"
     ]
    },
    {
     "name": "stderr",
     "output_type": "stream",
     "text": [
      "c:\\Users\\ronak\\AppData\\Local\\Programs\\Python\\Python311\\Lib\\site-packages\\statsmodels\\base\\model.py:604: ConvergenceWarning: Maximum Likelihood optimization failed to converge. Check mle_retvals\n",
      "  warnings.warn(\"Maximum Likelihood optimization failed to \"\n"
     ]
    },
    {
     "name": "stdout",
     "output_type": "stream",
     "text": [
      "predicted=7.551898, actual=7.573326\n"
     ]
    },
    {
     "name": "stderr",
     "output_type": "stream",
     "text": [
      "c:\\Users\\ronak\\AppData\\Local\\Programs\\Python\\Python311\\Lib\\site-packages\\statsmodels\\base\\model.py:604: ConvergenceWarning: Maximum Likelihood optimization failed to converge. Check mle_retvals\n",
      "  warnings.warn(\"Maximum Likelihood optimization failed to \"\n"
     ]
    },
    {
     "name": "stdout",
     "output_type": "stream",
     "text": [
      "predicted=7.576775, actual=7.574892\n"
     ]
    },
    {
     "name": "stderr",
     "output_type": "stream",
     "text": [
      "c:\\Users\\ronak\\AppData\\Local\\Programs\\Python\\Python311\\Lib\\site-packages\\statsmodels\\base\\model.py:604: ConvergenceWarning: Maximum Likelihood optimization failed to converge. Check mle_retvals\n",
      "  warnings.warn(\"Maximum Likelihood optimization failed to \"\n"
     ]
    },
    {
     "name": "stdout",
     "output_type": "stream",
     "text": [
      "predicted=7.573772, actual=7.577429\n"
     ]
    },
    {
     "name": "stderr",
     "output_type": "stream",
     "text": [
      "c:\\Users\\ronak\\AppData\\Local\\Programs\\Python\\Python311\\Lib\\site-packages\\statsmodels\\base\\model.py:604: ConvergenceWarning: Maximum Likelihood optimization failed to converge. Check mle_retvals\n",
      "  warnings.warn(\"Maximum Likelihood optimization failed to \"\n"
     ]
    },
    {
     "name": "stdout",
     "output_type": "stream",
     "text": [
      "predicted=7.578333, actual=7.596493\n",
      "predicted=7.594584, actual=7.611026\n"
     ]
    },
    {
     "name": "stderr",
     "output_type": "stream",
     "text": [
      "c:\\Users\\ronak\\AppData\\Local\\Programs\\Python\\Python311\\Lib\\site-packages\\statsmodels\\base\\model.py:604: ConvergenceWarning: Maximum Likelihood optimization failed to converge. Check mle_retvals\n",
      "  warnings.warn(\"Maximum Likelihood optimization failed to \"\n"
     ]
    },
    {
     "name": "stdout",
     "output_type": "stream",
     "text": [
      "predicted=7.611181, actual=7.571988\n",
      "predicted=7.570108, actual=7.603549\n"
     ]
    },
    {
     "name": "stderr",
     "output_type": "stream",
     "text": [
      "c:\\Users\\ronak\\AppData\\Local\\Programs\\Python\\Python311\\Lib\\site-packages\\statsmodels\\base\\model.py:604: ConvergenceWarning: Maximum Likelihood optimization failed to converge. Check mle_retvals\n",
      "  warnings.warn(\"Maximum Likelihood optimization failed to \"\n"
     ]
    },
    {
     "name": "stdout",
     "output_type": "stream",
     "text": [
      "predicted=7.605889, actual=7.603050\n",
      "Test RMSE: 0.022\n"
     ]
    },
    {
     "data": {
      "image/png": "[encoded data removed]",
      "text/plain": [
       "<Figure size 1200x600 with 1 Axes>"
      ]
     },
     "metadata": {},
     "output_type": "display_data"
    }
   ],
   "source": [
    "x = y.values\n",
    "train_size = int(len(x) * 0.7)\n",
    "train, test = x[0:train_size], x[train_size:]\n",
    "\n",
    "history = list(train)  # Use list() to ensure history is a list\n",
    "predictions = []\n",
    "\n",
    "# Define SARIMA parameters\n",
    "# Adjust the (p, d, q) and (P, D, Q, s) parameters based on your data\n",
    "seasonal_period = 12  # Example: monthly data with yearly seasonality\n",
    "num_predictions = 20\n",
    "cnt = 0\n",
    "\n",
    "for t in range(len(test)):\n",
    "    if cnt == num_predictions:\n",
    "        break\n",
    "    model = SARIMAX(history, order=(5,1,0), seasonal_order=(1,1,1,seasonal_period))\n",
    "    model_fit = model.fit(disp=False)  # No disp argument\n",
    "    output = model_fit.forecast(steps=1)\n",
    "    yhat = output[0]\n",
    "    predictions.append(yhat)\n",
    "    obs = test[t]\n",
    "    history.append(obs)\n",
    "    print(f'predicted={yhat:.6f}, actual={obs:.6f}')\n",
    "    cnt += 1\n",
    "\n",
    "# Ensure predictions and test have the same length\n",
    "if len(predictions) != num_predictions:\n",
    "    raise ValueError(f\"Predictions length ({len(predictions)}) does not match expected number ({num_predictions})\")\n",
    "\n",
    "# Slice the test set to match the length of predictions\n",
    "test_slice = test[:num_predictions]\n",
    "\n",
    "# Calculate error\n",
    "error = mean_squared_error(test_slice, predictions)\n",
    "print(f'Test RMSE: {np.sqrt(error):.3f}')\n",
    "\n",
    "# Plot results\n",
    "plt.figure(figsize=(12, 6))\n",
    "plt.plot(test_slice, label='Actual', color='blue')\n",
    "plt.plot(predictions, color='red', label='Predicted')\n",
    "plt.xlabel('Time')\n",
    "plt.ylabel('Stock Price')\n",
    "plt.title('Actual vs Predicted Stock Prices')\n",
    "plt.legend()\n",
    "plt.show()"
   ]
  },
  {
   "cell_type": "code",
   "execution_count": 38,
   "metadata": {},
   "outputs": [
    {
     "name": "stdout",
     "output_type": "stream",
     "text": [
      "Mean Absolute Error (MAE): 0.017\n",
      "Mean Squared Error (MSE): 0.001\n",
      "Root Mean Squared Error (RMSE): 0.022\n",
      "Mean Absolute Percentage Error (MAPE): 0.22%\n",
      "R-squared (R²): -0.144\n"
     ]
    }
   ],
   "source": [
    "# Calculate metrics\n",
    "mae = mean_absolute_error(test_slice, predictions)\n",
    "mse = mean_squared_error(test_slice, predictions)\n",
    "rmse = np.sqrt(mse)\n",
    "mape = np.mean(np.abs((test_slice - predictions) / test_slice)) * 100\n",
    "r2 = r2_score(test_slice, predictions)\n",
    "\n",
    "print(f'Mean Absolute Error (MAE): {mae:.3f}')\n",
    "print(f'Mean Squared Error (MSE): {mse:.3f}')\n",
    "print(f'Root Mean Squared Error (RMSE): {rmse:.3f}')\n",
    "print(f'Mean Absolute Percentage Error (MAPE): {mape:.2f}%')\n",
    "print(f'R-squared (R²): {r2:.3f}')"
   ]
  },
  {
   "cell_type": "code",
   "execution_count": 39,
   "metadata": {},
   "outputs": [
    {
     "name": "stderr",
     "output_type": "stream",
     "text": [
      "c:\\Users\\ronak\\AppData\\Local\\Programs\\Python\\Python311\\Lib\\site-packages\\statsmodels\\base\\model.py:604: ConvergenceWarning: Maximum Likelihood optimization failed to converge. Check mle_retvals\n",
      "  warnings.warn(\"Maximum Likelihood optimization failed to \"\n"
     ]
    },
    {
     "name": "stdout",
     "output_type": "stream",
     "text": [
      "The predicted stock price for 2024-09-20 is: 4356.16\n"
     ]
    }
   ],
   "source": [
    "model = SARIMAX(x_log, order=(5,1,0), seasonal_order=(1,1,1,12))  # Example parameters\n",
    "model_fit = model.fit(disp=False)\n",
    "\n",
    "# Forecast the next value in the log-transformed scale\n",
    "forecast_log = model_fit.forecast(steps=1) # next day\n",
    "forecast_log_value = forecast_log[0]\n",
    "\n",
    "# Reverse the logarithmic transformation to get the actual price\n",
    "forecast_value = np.exp(forecast_log_value)\n",
    "\n",
    "# Get tomorrow's date\n",
    "today = datetime.now()\n",
    "tomorrow = today + timedelta(days=1)\n",
    "tomorrow_date_str = tomorrow.strftime('%Y-%m-%d')  # Format date as YYYY-MM-DD\n",
    "\n",
    "print(f'The predicted stock price for {tomorrow_date_str} is: {forecast_value:.2f}')"
   ]
  },
  {
   "cell_type": "code",
   "execution_count": 40,
   "metadata": {},
   "outputs": [
    {
     "name": "stderr",
     "output_type": "stream",
     "text": [
      "c:\\Users\\ronak\\AppData\\Local\\Programs\\Python\\Python311\\Lib\\site-packages\\statsmodels\\base\\model.py:604: ConvergenceWarning: Maximum Likelihood optimization failed to converge. Check mle_retvals\n",
      "  warnings.warn(\"Maximum Likelihood optimization failed to \"\n"
     ]
    },
    {
     "name": "stdout",
     "output_type": "stream",
     "text": [
      "         Date  Forecasted Price\n",
      "0  2024-09-20       4356.161582\n",
      "1  2024-09-21       4363.982752\n",
      "2  2024-09-22       4366.989057\n",
      "3  2024-09-23       4370.211884\n",
      "4  2024-09-24       4374.783759\n",
      "5  2024-09-25       4378.461455\n",
      "6  2024-09-26       4383.806862\n",
      "7  2024-09-27       4381.464495\n",
      "8  2024-09-28       4382.377453\n",
      "9  2024-09-29       4380.964981\n"
     ]
    },
    {
     "data": {
      "image/png": "[encoded data removed]",
      "text/plain": [
       "<Figure size 1200x600 with 1 Axes>"
      ]
     },
     "metadata": {},
     "output_type": "display_data"
    }
   ],
   "source": [
    "# Assume y is your log-transformed time series data and already loaded\n",
    "x_log = y.values\n",
    "\n",
    "# Define the SARIMA model\n",
    "# Example parameters; adjust these based on your data and seasonal period\n",
    "model = SARIMAX(x_log, order=(5,1,0), seasonal_order=(1,1,1,12))  # Adjust parameters as needed\n",
    "model_fit = model.fit(disp=False)\n",
    "\n",
    "# Forecast the next 10 days in the log-transformed scale\n",
    "forecast_log = model_fit.forecast(steps=10)\n",
    "forecast_log_values = forecast_log\n",
    "\n",
    "# Reverse the logarithmic transformation to get the actual prices\n",
    "forecast_values = np.exp(forecast_log_values)\n",
    "\n",
    "# Generate dates for the next 10 days\n",
    "today = datetime.now()\n",
    "dates = [today + timedelta(days=i+1) for i in range(10)] \n",
    "dates_str = [date.strftime('%Y-%m-%d') for date in dates]\n",
    "\n",
    "# Create a DataFrame to display results\n",
    "forecast_df = pd.DataFrame({\n",
    "    'Date': dates_str,\n",
    "    'Forecasted Price': forecast_values\n",
    "})\n",
    "\n",
    "print(forecast_df)\n",
    "\n",
    "# Optional: Plot the forecasted prices\n",
    "import matplotlib.pyplot as plt\n",
    "\n",
    "plt.figure(figsize=(12, 6))\n",
    "plt.plot(dates, forecast_values, marker='o', linestyle='-', color='red', label='Forecasted Prices')\n",
    "plt.xlabel('Date')\n",
    "plt.ylabel('Stock Price')\n",
    "plt.title('Forecasted Stock Prices for the Next 10 Days')\n",
    "plt.xticks(rotation=45)\n",
    "plt.legend()\n",
    "plt.grid()\n",
    "plt.show()\n"
   ]
  },
  {
   "cell_type": "code",
   "execution_count": 44,
   "metadata": {},
   "outputs": [
    {
     "name": "stderr",
     "output_type": "stream",
     "text": [
      "c:\\Users\\ronak\\AppData\\Local\\Programs\\Python\\Python311\\Lib\\site-packages\\statsmodels\\base\\model.py:604: ConvergenceWarning: Maximum Likelihood optimization failed to converge. Check mle_retvals\n",
      "  warnings.warn(\"Maximum Likelihood optimization failed to \"\n",
      "c:\\Users\\ronak\\AppData\\Local\\Programs\\Python\\Python311\\Lib\\site-packages\\statsmodels\\base\\model.py:604: ConvergenceWarning: Maximum Likelihood optimization failed to converge. Check mle_retvals\n",
      "  warnings.warn(\"Maximum Likelihood optimization failed to \"\n",
      "c:\\Users\\ronak\\AppData\\Local\\Programs\\Python\\Python311\\Lib\\site-packages\\statsmodels\\base\\model.py:604: ConvergenceWarning: Maximum Likelihood optimization failed to converge. Check mle_retvals\n",
      "  warnings.warn(\"Maximum Likelihood optimization failed to \"\n",
      "c:\\Users\\ronak\\AppData\\Local\\Programs\\Python\\Python311\\Lib\\site-packages\\statsmodels\\base\\model.py:604: ConvergenceWarning: Maximum Likelihood optimization failed to converge. Check mle_retvals\n",
      "  warnings.warn(\"Maximum Likelihood optimization failed to \"\n",
      "c:\\Users\\ronak\\AppData\\Local\\Programs\\Python\\Python311\\Lib\\site-packages\\statsmodels\\base\\model.py:604: ConvergenceWarning: Maximum Likelihood optimization failed to converge. Check mle_retvals\n",
      "  warnings.warn(\"Maximum Likelihood optimization failed to \"\n",
      "c:\\Users\\ronak\\AppData\\Local\\Programs\\Python\\Python311\\Lib\\site-packages\\statsmodels\\base\\model.py:604: ConvergenceWarning: Maximum Likelihood optimization failed to converge. Check mle_retvals\n",
      "  warnings.warn(\"Maximum Likelihood optimization failed to \"\n",
      "c:\\Users\\ronak\\AppData\\Local\\Programs\\Python\\Python311\\Lib\\site-packages\\statsmodels\\base\\model.py:604: ConvergenceWarning: Maximum Likelihood optimization failed to converge. Check mle_retvals\n",
      "  warnings.warn(\"Maximum Likelihood optimization failed to \"\n",
      "c:\\Users\\ronak\\AppData\\Local\\Programs\\Python\\Python311\\Lib\\site-packages\\statsmodels\\base\\model.py:604: ConvergenceWarning: Maximum Likelihood optimization failed to converge. Check mle_retvals\n",
      "  warnings.warn(\"Maximum Likelihood optimization failed to \"\n",
      "c:\\Users\\ronak\\AppData\\Local\\Programs\\Python\\Python311\\Lib\\site-packages\\statsmodels\\base\\model.py:604: ConvergenceWarning: Maximum Likelihood optimization failed to converge. Check mle_retvals\n",
      "  warnings.warn(\"Maximum Likelihood optimization failed to \"\n",
      "c:\\Users\\ronak\\AppData\\Local\\Programs\\Python\\Python311\\Lib\\site-packages\\statsmodels\\base\\model.py:604: ConvergenceWarning: Maximum Likelihood optimization failed to converge. Check mle_retvals\n",
      "  warnings.warn(\"Maximum Likelihood optimization failed to \"\n",
      "c:\\Users\\ronak\\AppData\\Local\\Programs\\Python\\Python311\\Lib\\site-packages\\statsmodels\\base\\model.py:604: ConvergenceWarning: Maximum Likelihood optimization failed to converge. Check mle_retvals\n",
      "  warnings.warn(\"Maximum Likelihood optimization failed to \"\n",
      "c:\\Users\\ronak\\AppData\\Local\\Programs\\Python\\Python311\\Lib\\site-packages\\statsmodels\\base\\model.py:604: ConvergenceWarning: Maximum Likelihood optimization failed to converge. Check mle_retvals\n",
      "  warnings.warn(\"Maximum Likelihood optimization failed to \"\n",
      "c:\\Users\\ronak\\AppData\\Local\\Programs\\Python\\Python311\\Lib\\site-packages\\statsmodels\\base\\model.py:604: ConvergenceWarning: Maximum Likelihood optimization failed to converge. Check mle_retvals\n",
      "  warnings.warn(\"Maximum Likelihood optimization failed to \"\n",
      "c:\\Users\\ronak\\AppData\\Local\\Programs\\Python\\Python311\\Lib\\site-packages\\statsmodels\\base\\model.py:604: ConvergenceWarning: Maximum Likelihood optimization failed to converge. Check mle_retvals\n",
      "  warnings.warn(\"Maximum Likelihood optimization failed to \"\n",
      "c:\\Users\\ronak\\AppData\\Local\\Programs\\Python\\Python311\\Lib\\site-packages\\statsmodels\\base\\model.py:604: ConvergenceWarning: Maximum Likelihood optimization failed to converge. Check mle_retvals\n",
      "  warnings.warn(\"Maximum Likelihood optimization failed to \"\n",
      "c:\\Users\\ronak\\AppData\\Local\\Programs\\Python\\Python311\\Lib\\site-packages\\statsmodels\\base\\model.py:604: ConvergenceWarning: Maximum Likelihood optimization failed to converge. Check mle_retvals\n",
      "  warnings.warn(\"Maximum Likelihood optimization failed to \"\n",
      "c:\\Users\\ronak\\AppData\\Local\\Programs\\Python\\Python311\\Lib\\site-packages\\statsmodels\\base\\model.py:604: ConvergenceWarning: Maximum Likelihood optimization failed to converge. Check mle_retvals\n",
      "  warnings.warn(\"Maximum Likelihood optimization failed to \"\n",
      "c:\\Users\\ronak\\AppData\\Local\\Programs\\Python\\Python311\\Lib\\site-packages\\statsmodels\\base\\model.py:604: ConvergenceWarning: Maximum Likelihood optimization failed to converge. Check mle_retvals\n",
      "  warnings.warn(\"Maximum Likelihood optimization failed to \"\n",
      "c:\\Users\\ronak\\AppData\\Local\\Programs\\Python\\Python311\\Lib\\site-packages\\statsmodels\\base\\model.py:604: ConvergenceWarning: Maximum Likelihood optimization failed to converge. Check mle_retvals\n",
      "  warnings.warn(\"Maximum Likelihood optimization failed to \"\n",
      "c:\\Users\\ronak\\AppData\\Local\\Programs\\Python\\Python311\\Lib\\site-packages\\statsmodels\\base\\model.py:604: ConvergenceWarning: Maximum Likelihood optimization failed to converge. Check mle_retvals\n",
      "  warnings.warn(\"Maximum Likelihood optimization failed to \"\n",
      "c:\\Users\\ronak\\AppData\\Local\\Programs\\Python\\Python311\\Lib\\site-packages\\statsmodels\\base\\model.py:604: ConvergenceWarning: Maximum Likelihood optimization failed to converge. Check mle_retvals\n",
      "  warnings.warn(\"Maximum Likelihood optimization failed to \"\n",
      "c:\\Users\\ronak\\AppData\\Local\\Programs\\Python\\Python311\\Lib\\site-packages\\statsmodels\\base\\model.py:604: ConvergenceWarning: Maximum Likelihood optimization failed to converge. Check mle_retvals\n",
      "  warnings.warn(\"Maximum Likelihood optimization failed to \"\n",
      "c:\\Users\\ronak\\AppData\\Local\\Programs\\Python\\Python311\\Lib\\site-packages\\statsmodels\\base\\model.py:604: ConvergenceWarning: Maximum Likelihood optimization failed to converge. Check mle_retvals\n",
      "  warnings.warn(\"Maximum Likelihood optimization failed to \"\n",
      "c:\\Users\\ronak\\AppData\\Local\\Programs\\Python\\Python311\\Lib\\site-packages\\statsmodels\\base\\model.py:604: ConvergenceWarning: Maximum Likelihood optimization failed to converge. Check mle_retvals\n",
      "  warnings.warn(\"Maximum Likelihood optimization failed to \"\n",
      "c:\\Users\\ronak\\AppData\\Local\\Programs\\Python\\Python311\\Lib\\site-packages\\statsmodels\\base\\model.py:604: ConvergenceWarning: Maximum Likelihood optimization failed to converge. Check mle_retvals\n",
      "  warnings.warn(\"Maximum Likelihood optimization failed to \"\n",
      "c:\\Users\\ronak\\AppData\\Local\\Programs\\Python\\Python311\\Lib\\site-packages\\statsmodels\\base\\model.py:604: ConvergenceWarning: Maximum Likelihood optimization failed to converge. Check mle_retvals\n",
      "  warnings.warn(\"Maximum Likelihood optimization failed to \"\n",
      "c:\\Users\\ronak\\AppData\\Local\\Programs\\Python\\Python311\\Lib\\site-packages\\statsmodels\\base\\model.py:604: ConvergenceWarning: Maximum Likelihood optimization failed to converge. Check mle_retvals\n",
      "  warnings.warn(\"Maximum Likelihood optimization failed to \"\n",
      "c:\\Users\\ronak\\AppData\\Local\\Programs\\Python\\Python311\\Lib\\site-packages\\statsmodels\\base\\model.py:604: ConvergenceWarning: Maximum Likelihood optimization failed to converge. Check mle_retvals\n",
      "  warnings.warn(\"Maximum Likelihood optimization failed to \"\n",
      "c:\\Users\\ronak\\AppData\\Local\\Programs\\Python\\Python311\\Lib\\site-packages\\statsmodels\\base\\model.py:604: ConvergenceWarning: Maximum Likelihood optimization failed to converge. Check mle_retvals\n",
      "  warnings.warn(\"Maximum Likelihood optimization failed to \"\n",
      "c:\\Users\\ronak\\AppData\\Local\\Programs\\Python\\Python311\\Lib\\site-packages\\statsmodels\\base\\model.py:604: ConvergenceWarning: Maximum Likelihood optimization failed to converge. Check mle_retvals\n",
      "  warnings.warn(\"Maximum Likelihood optimization failed to \"\n",
      "c:\\Users\\ronak\\AppData\\Local\\Programs\\Python\\Python311\\Lib\\site-packages\\statsmodels\\base\\model.py:604: ConvergenceWarning: Maximum Likelihood optimization failed to converge. Check mle_retvals\n",
      "  warnings.warn(\"Maximum Likelihood optimization failed to \"\n",
      "c:\\Users\\ronak\\AppData\\Local\\Programs\\Python\\Python311\\Lib\\site-packages\\statsmodels\\base\\model.py:604: ConvergenceWarning: Maximum Likelihood optimization failed to converge. Check mle_retvals\n",
      "  warnings.warn(\"Maximum Likelihood optimization failed to \"\n",
      "c:\\Users\\ronak\\AppData\\Local\\Programs\\Python\\Python311\\Lib\\site-packages\\statsmodels\\base\\model.py:604: ConvergenceWarning: Maximum Likelihood optimization failed to converge. Check mle_retvals\n",
      "  warnings.warn(\"Maximum Likelihood optimization failed to \"\n",
      "c:\\Users\\ronak\\AppData\\Local\\Programs\\Python\\Python311\\Lib\\site-packages\\statsmodels\\base\\model.py:604: ConvergenceWarning: Maximum Likelihood optimization failed to converge. Check mle_retvals\n",
      "  warnings.warn(\"Maximum Likelihood optimization failed to \"\n",
      "c:\\Users\\ronak\\AppData\\Local\\Programs\\Python\\Python311\\Lib\\site-packages\\statsmodels\\base\\model.py:604: ConvergenceWarning: Maximum Likelihood optimization failed to converge. Check mle_retvals\n",
      "  warnings.warn(\"Maximum Likelihood optimization failed to \"\n",
      "c:\\Users\\ronak\\AppData\\Local\\Programs\\Python\\Python311\\Lib\\site-packages\\statsmodels\\base\\model.py:604: ConvergenceWarning: Maximum Likelihood optimization failed to converge. Check mle_retvals\n",
      "  warnings.warn(\"Maximum Likelihood optimization failed to \"\n",
      "c:\\Users\\ronak\\AppData\\Local\\Programs\\Python\\Python311\\Lib\\site-packages\\statsmodels\\base\\model.py:604: ConvergenceWarning: Maximum Likelihood optimization failed to converge. Check mle_retvals\n",
      "  warnings.warn(\"Maximum Likelihood optimization failed to \"\n",
      "c:\\Users\\ronak\\AppData\\Local\\Programs\\Python\\Python311\\Lib\\site-packages\\statsmodels\\base\\model.py:604: ConvergenceWarning: Maximum Likelihood optimization failed to converge. Check mle_retvals\n",
      "  warnings.warn(\"Maximum Likelihood optimization failed to \"\n",
      "c:\\Users\\ronak\\AppData\\Local\\Programs\\Python\\Python311\\Lib\\site-packages\\statsmodels\\base\\model.py:604: ConvergenceWarning: Maximum Likelihood optimization failed to converge. Check mle_retvals\n",
      "  warnings.warn(\"Maximum Likelihood optimization failed to \"\n",
      "c:\\Users\\ronak\\AppData\\Local\\Programs\\Python\\Python311\\Lib\\site-packages\\statsmodels\\base\\model.py:604: ConvergenceWarning: Maximum Likelihood optimization failed to converge. Check mle_retvals\n",
      "  warnings.warn(\"Maximum Likelihood optimization failed to \"\n",
      "c:\\Users\\ronak\\AppData\\Local\\Programs\\Python\\Python311\\Lib\\site-packages\\statsmodels\\base\\model.py:604: ConvergenceWarning: Maximum Likelihood optimization failed to converge. Check mle_retvals\n",
      "  warnings.warn(\"Maximum Likelihood optimization failed to \"\n",
      "c:\\Users\\ronak\\AppData\\Local\\Programs\\Python\\Python311\\Lib\\site-packages\\statsmodels\\base\\model.py:604: ConvergenceWarning: Maximum Likelihood optimization failed to converge. Check mle_retvals\n",
      "  warnings.warn(\"Maximum Likelihood optimization failed to \"\n",
      "c:\\Users\\ronak\\AppData\\Local\\Programs\\Python\\Python311\\Lib\\site-packages\\statsmodels\\base\\model.py:604: ConvergenceWarning: Maximum Likelihood optimization failed to converge. Check mle_retvals\n",
      "  warnings.warn(\"Maximum Likelihood optimization failed to \"\n",
      "c:\\Users\\ronak\\AppData\\Local\\Programs\\Python\\Python311\\Lib\\site-packages\\statsmodels\\base\\model.py:604: ConvergenceWarning: Maximum Likelihood optimization failed to converge. Check mle_retvals\n",
      "  warnings.warn(\"Maximum Likelihood optimization failed to \"\n",
      "c:\\Users\\ronak\\AppData\\Local\\Programs\\Python\\Python311\\Lib\\site-packages\\statsmodels\\base\\model.py:604: ConvergenceWarning: Maximum Likelihood optimization failed to converge. Check mle_retvals\n",
      "  warnings.warn(\"Maximum Likelihood optimization failed to \"\n",
      "c:\\Users\\ronak\\AppData\\Local\\Programs\\Python\\Python311\\Lib\\site-packages\\statsmodels\\base\\model.py:604: ConvergenceWarning: Maximum Likelihood optimization failed to converge. Check mle_retvals\n",
      "  warnings.warn(\"Maximum Likelihood optimization failed to \"\n",
      "c:\\Users\\ronak\\AppData\\Local\\Programs\\Python\\Python311\\Lib\\site-packages\\statsmodels\\base\\model.py:604: ConvergenceWarning: Maximum Likelihood optimization failed to converge. Check mle_retvals\n",
      "  warnings.warn(\"Maximum Likelihood optimization failed to \"\n",
      "c:\\Users\\ronak\\AppData\\Local\\Programs\\Python\\Python311\\Lib\\site-packages\\statsmodels\\base\\model.py:604: ConvergenceWarning: Maximum Likelihood optimization failed to converge. Check mle_retvals\n",
      "  warnings.warn(\"Maximum Likelihood optimization failed to \"\n",
      "c:\\Users\\ronak\\AppData\\Local\\Programs\\Python\\Python311\\Lib\\site-packages\\statsmodels\\base\\model.py:604: ConvergenceWarning: Maximum Likelihood optimization failed to converge. Check mle_retvals\n",
      "  warnings.warn(\"Maximum Likelihood optimization failed to \"\n",
      "c:\\Users\\ronak\\AppData\\Local\\Programs\\Python\\Python311\\Lib\\site-packages\\statsmodels\\base\\model.py:604: ConvergenceWarning: Maximum Likelihood optimization failed to converge. Check mle_retvals\n",
      "  warnings.warn(\"Maximum Likelihood optimization failed to \"\n",
      "c:\\Users\\ronak\\AppData\\Local\\Programs\\Python\\Python311\\Lib\\site-packages\\statsmodels\\base\\model.py:604: ConvergenceWarning: Maximum Likelihood optimization failed to converge. Check mle_retvals\n",
      "  warnings.warn(\"Maximum Likelihood optimization failed to \"\n",
      "c:\\Users\\ronak\\AppData\\Local\\Programs\\Python\\Python311\\Lib\\site-packages\\statsmodels\\base\\model.py:604: ConvergenceWarning: Maximum Likelihood optimization failed to converge. Check mle_retvals\n",
      "  warnings.warn(\"Maximum Likelihood optimization failed to \"\n"
     ]
    },
    {
     "data": {
      "image/png": "[encoded data removed]",
      "text/plain": [
       "<Figure size 1200x600 with 1 Axes>"
      ]
     },
     "metadata": {},
     "output_type": "display_data"
    }
   ],
   "source": [
    "# import numpy as np\n",
    "# import matplotlib.pyplot as plt\n",
    "# from statsmodels.tsa.arima.model import ARIMA\n",
    "\n",
    "# # Assume y is your log-transformed time series data and already loaded\n",
    "# x_log = y.values\n",
    "# train_size = int(len(x_log) * 0.7)\n",
    "# train, test = x_log[0:train_size], x_log[train_size:]\n",
    "# test_actual = np.exp(test)  # Convert test data back to original scale\n",
    "# history = [x for x in train]\n",
    "# predictions = []\n",
    "\n",
    "# # Forecasting the test period\n",
    "# for t in range(len(test)):\n",
    "#     model = ARIMA(history, order=(5,1,0))  # p, d, q\n",
    "#     model_fit = model.fit()\n",
    "#     output = model_fit.forecast(steps=1)\n",
    "#     yhat_log = output[0]\n",
    "#     yhat = np.exp(yhat_log)  # Convert forecasted log value back to original scale\n",
    "#     predictions.append(yhat)\n",
    "#     obs = np.exp(test[t])  # Ensure actual test values are in original scale\n",
    "#     history.append(test[t])\n",
    "#     # print('predicted=%f, actual=%f' % (yhat, obs))\n",
    "\n",
    "# # Convert predictions to a numpy array for easy plotting\n",
    "# predictions = np.array(predictions)\n",
    "\n",
    "# # Plot actual vs predicted prices\n",
    "# plt.figure(figsize=(12, 6))\n",
    "# plt.plot(test_actual, label='Actual Prices', color='blue')\n",
    "# plt.plot(predictions, color='red', label='Predicted Prices')\n",
    "# plt.xlabel('Time')\n",
    "# plt.ylabel('Stock Price')\n",
    "# plt.title('Actual vs Predicted Stock Prices')\n",
    "# plt.legend()\n",
    "# plt.show()\n"
   ]
  },
  {
   "cell_type": "code",
   "execution_count": null,
   "metadata": {},
   "outputs": [],
   "source": []
  },
  {
   "cell_type": "code",
   "execution_count": null,
   "metadata": {},
   "outputs": [],
   "source": []
  },
  {
   "cell_type": "code",
   "execution_count": null,
   "metadata": {},
   "outputs": [],
   "source": []
  },
  {
   "cell_type": "code",
   "execution_count": null,
   "metadata": {},
   "outputs": [],
   "source": []
  }
 ],
 "metadata": {
  "kernelspec": {
   "display_name": "Python 3",
   "language": "python",
   "name": "python3"
  },
  "language_info": {
   "codemirror_mode": {
    "name": "ipython",
    "version": 3
   },
   "file_extension": ".py",
   "mimetype": "text/x-python",
   "name": "python",
   "nbconvert_exporter": "python",
   "pygments_lexer": "ipython3",
   "version": "3.11.1"
  }
 },
 "nbformat": 4,
 "nbformat_minor": 2
}
